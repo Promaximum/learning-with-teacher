{
 "cells": [
  {
   "cell_type": "markdown",
   "id": "9cb44cb2",
   "metadata": {},
   "source": [
    "# Отток клиентов"
   ]
  },
  {
   "cell_type": "markdown",
   "id": "4c9c8752",
   "metadata": {},
   "source": [
    "<h1>Содержание<span class=\"tocSkip\"></span></h1>\n",
    "<div class=\"toc\"><ul class=\"toc-item\"><li><span><a href=\"#Подготовка-данных\" data-toc-modified-id=\"Подготовка-данных-1\"><span class=\"toc-item-num\">1&nbsp;&nbsp;</span>Подготовка данных</a></span></li><li><span><a href=\"#Исследование-задачи\" data-toc-modified-id=\"Исследование-задачи-2\"><span class=\"toc-item-num\">2&nbsp;&nbsp;</span>Исследование задачи</a></span></li><li><span><a href=\"#Борьба-с-дисбалансом\" data-toc-modified-id=\"Борьба-с-дисбалансом-3\"><span class=\"toc-item-num\">3&nbsp;&nbsp;</span>Борьба с дисбалансом</a></span></li><li><span><a href=\"#Тестирование-модели\" data-toc-modified-id=\"Тестирование-модели-4\"><span class=\"toc-item-num\">4&nbsp;&nbsp;</span>Тестирование модели</a></span></li><li><span><a href=\"#Чек-лист-готовности-проекта\" data-toc-modified-id=\"Чек-лист-готовности-проекта-5\"><span class=\"toc-item-num\">5&nbsp;&nbsp;</span>Чек-лист готовности проекта</a></span></li></ul></div>"
   ]
  },
  {
   "cell_type": "markdown",
   "id": "84ed7ce7",
   "metadata": {},
   "source": [
    "Из «Бета-Банка» стали уходить клиенты. Каждый месяц. Немного, но заметно. Банковские маркетологи посчитали: сохранять текущих клиентов дешевле, чем привлекать новых.\n",
    "\n",
    "Нужно спрогнозировать, уйдёт клиент из банка в ближайшее время или нет. Вам предоставлены исторические данные о поведении клиентов и расторжении договоров с банком. \n",
    "\n",
    "Постройте модель с предельно большим значением *F1*-меры. Чтобы сдать проект успешно, нужно довести метрику до 0.59. Проверьте *F1*-меру на тестовой выборке самостоятельно.\n",
    "\n",
    "Дополнительно измеряйте *AUC-ROC*, сравнивайте её значение с *F1*-мерой.\n",
    "\n",
    "Источник данных: [https://www.kaggle.com/barelydedicated/bank-customer-churn-modeling](https://www.kaggle.com/barelydedicated/bank-customer-churn-modeling)"
   ]
  },
  {
   "cell_type": "markdown",
   "id": "deea82ab",
   "metadata": {},
   "source": [
    "Из «Бета-Банка» стали уходить клиенты. Каждый месяц. Немного, но заметно. Банковские маркетологи посчитали: сохранять текущих клиентов дешевле, чем привлекать новых.\n",
    "Нужно спрогнозировать, уйдёт клиент из банка в ближайшее время или нет. Предоставлены исторические данные о поведении клиентов и расторжении договоров с банком.\n",
    "Построить модель с предельно большим значением F1-меры. Чтобы сдать проект успешно, нужно довести метрику до 0.59. Проверить F1-меру на тестовой выборке самостоятельно.\n",
    "Дополнительно измерить AUC-ROC, сравнить её значение с F1-мерой."
   ]
  },
  {
   "cell_type": "markdown",
   "id": "667fa848",
   "metadata": {},
   "source": [
    "# Инструкция по выполнению проекта\n",
    "\n",
    "**Шаг. 1 Загрузить и подготовить данные. Пояснить порядок действий.**\n",
    "\n",
    "**Шаг. 2 Исследовать баланс классов, обучить модель без учёта дисбаланса. Кратко описать выводы.**\n",
    "\n",
    "**Шаг. 3 Улучшить качество модели, учитывая дисбаланс классов. Обучить разные модели и найти лучшую. Кратко описать выводы.**\n",
    "\n",
    "**Шаг. 4 Провести финальное тестирование.**"
   ]
  },
  {
   "cell_type": "markdown",
   "id": "b35eb3a3",
   "metadata": {},
   "source": [
    "# Описание данных\n",
    "\n",
    "Данные находятся в файле /datasets/Churn.csv (англ. «отток клиентов»). \n",
    "\n",
    "**Признаки**\n",
    "\n",
    "* RowNumber — индекс строки в данных\n",
    "* CustomerId — уникальный идентификатор клиента\n",
    "* Surname — фамилия\n",
    "* CreditScore — кредитный рейтинг\n",
    "* Geography — страна проживания\n",
    "* Gender — пол\n",
    "* Age — возраст\n",
    "* Tenure — сколько лет человек является клиентом банка\n",
    "* Balance — баланс на счёте\n",
    "* NumOfProducts — количество продуктов банка, используемых клиентом\n",
    "* HasCrCard — наличие кредитной карты\n",
    "* IsActiveMember — активность клиента\n",
    "* EstimatedSalary — предполагаемая зарплата\n",
    "\n",
    "**Целевой признак**\n",
    "\n",
    "* Exited — факт ухода клиента"
   ]
  },
  {
   "cell_type": "code",
   "execution_count": 1,
   "id": "e113623f",
   "metadata": {},
   "outputs": [],
   "source": [
    "import pandas as pd\n",
    "import numpy as np\n",
    "import matplotlib.pyplot as plt\n",
    "from sklearn.model_selection import train_test_split\n",
    "from sklearn.linear_model import LogisticRegression\n",
    "from sklearn.tree import DecisionTreeClassifier\n",
    "from sklearn.ensemble import RandomForestClassifier\n",
    "from sklearn.metrics import f1_score, precision_score, recall_score, accuracy_score, roc_auc_score, roc_curve\n",
    "from sklearn.utils import shuffle"
   ]
  },
  {
   "cell_type": "code",
   "execution_count": 2,
   "id": "bcacb23f",
   "metadata": {},
   "outputs": [],
   "source": [
    "try:\n",
    "    data = pd.read_csv('C:\\Data\\Churn.csv')\n",
    "except:\n",
    "    data = pd.read_csv('/datasets/Churn.csv')"
   ]
  },
  {
   "cell_type": "markdown",
   "id": "ca542c19",
   "metadata": {},
   "source": [
    "# Шаг 1. Подготовка данных"
   ]
  },
  {
   "cell_type": "code",
   "execution_count": 3,
   "id": "798f6016",
   "metadata": {},
   "outputs": [
    {
     "name": "stdout",
     "output_type": "stream",
     "text": [
      "<class 'pandas.core.frame.DataFrame'>\n",
      "RangeIndex: 10000 entries, 0 to 9999\n",
      "Data columns (total 14 columns):\n",
      " #   Column           Non-Null Count  Dtype  \n",
      "---  ------           --------------  -----  \n",
      " 0   RowNumber        10000 non-null  int64  \n",
      " 1   CustomerId       10000 non-null  int64  \n",
      " 2   Surname          10000 non-null  object \n",
      " 3   CreditScore      10000 non-null  int64  \n",
      " 4   Geography        10000 non-null  object \n",
      " 5   Gender           10000 non-null  object \n",
      " 6   Age              10000 non-null  int64  \n",
      " 7   Tenure           9091 non-null   float64\n",
      " 8   Balance          10000 non-null  float64\n",
      " 9   NumOfProducts    10000 non-null  int64  \n",
      " 10  HasCrCard        10000 non-null  int64  \n",
      " 11  IsActiveMember   10000 non-null  int64  \n",
      " 12  EstimatedSalary  10000 non-null  float64\n",
      " 13  Exited           10000 non-null  int64  \n",
      "dtypes: float64(3), int64(8), object(3)\n",
      "memory usage: 1.1+ MB\n"
     ]
    }
   ],
   "source": [
    "data.info()"
   ]
  },
  {
   "cell_type": "code",
   "execution_count": 4,
   "id": "2723a00c",
   "metadata": {},
   "outputs": [
    {
     "data": {
      "text/html": [
       "<div>\n",
       "<style scoped>\n",
       "    .dataframe tbody tr th:only-of-type {\n",
       "        vertical-align: middle;\n",
       "    }\n",
       "\n",
       "    .dataframe tbody tr th {\n",
       "        vertical-align: top;\n",
       "    }\n",
       "\n",
       "    .dataframe thead th {\n",
       "        text-align: right;\n",
       "    }\n",
       "</style>\n",
       "<table border=\"1\" class=\"dataframe\">\n",
       "  <thead>\n",
       "    <tr style=\"text-align: right;\">\n",
       "      <th></th>\n",
       "      <th>RowNumber</th>\n",
       "      <th>CustomerId</th>\n",
       "      <th>Surname</th>\n",
       "      <th>CreditScore</th>\n",
       "      <th>Geography</th>\n",
       "      <th>Gender</th>\n",
       "      <th>Age</th>\n",
       "      <th>Tenure</th>\n",
       "      <th>Balance</th>\n",
       "      <th>NumOfProducts</th>\n",
       "      <th>HasCrCard</th>\n",
       "      <th>IsActiveMember</th>\n",
       "      <th>EstimatedSalary</th>\n",
       "      <th>Exited</th>\n",
       "    </tr>\n",
       "  </thead>\n",
       "  <tbody>\n",
       "    <tr>\n",
       "      <th>0</th>\n",
       "      <td>1</td>\n",
       "      <td>15634602</td>\n",
       "      <td>Hargrave</td>\n",
       "      <td>619</td>\n",
       "      <td>France</td>\n",
       "      <td>Female</td>\n",
       "      <td>42</td>\n",
       "      <td>2.0</td>\n",
       "      <td>0.00</td>\n",
       "      <td>1</td>\n",
       "      <td>1</td>\n",
       "      <td>1</td>\n",
       "      <td>101348.88</td>\n",
       "      <td>1</td>\n",
       "    </tr>\n",
       "    <tr>\n",
       "      <th>1</th>\n",
       "      <td>2</td>\n",
       "      <td>15647311</td>\n",
       "      <td>Hill</td>\n",
       "      <td>608</td>\n",
       "      <td>Spain</td>\n",
       "      <td>Female</td>\n",
       "      <td>41</td>\n",
       "      <td>1.0</td>\n",
       "      <td>83807.86</td>\n",
       "      <td>1</td>\n",
       "      <td>0</td>\n",
       "      <td>1</td>\n",
       "      <td>112542.58</td>\n",
       "      <td>0</td>\n",
       "    </tr>\n",
       "    <tr>\n",
       "      <th>2</th>\n",
       "      <td>3</td>\n",
       "      <td>15619304</td>\n",
       "      <td>Onio</td>\n",
       "      <td>502</td>\n",
       "      <td>France</td>\n",
       "      <td>Female</td>\n",
       "      <td>42</td>\n",
       "      <td>8.0</td>\n",
       "      <td>159660.80</td>\n",
       "      <td>3</td>\n",
       "      <td>1</td>\n",
       "      <td>0</td>\n",
       "      <td>113931.57</td>\n",
       "      <td>1</td>\n",
       "    </tr>\n",
       "    <tr>\n",
       "      <th>3</th>\n",
       "      <td>4</td>\n",
       "      <td>15701354</td>\n",
       "      <td>Boni</td>\n",
       "      <td>699</td>\n",
       "      <td>France</td>\n",
       "      <td>Female</td>\n",
       "      <td>39</td>\n",
       "      <td>1.0</td>\n",
       "      <td>0.00</td>\n",
       "      <td>2</td>\n",
       "      <td>0</td>\n",
       "      <td>0</td>\n",
       "      <td>93826.63</td>\n",
       "      <td>0</td>\n",
       "    </tr>\n",
       "    <tr>\n",
       "      <th>4</th>\n",
       "      <td>5</td>\n",
       "      <td>15737888</td>\n",
       "      <td>Mitchell</td>\n",
       "      <td>850</td>\n",
       "      <td>Spain</td>\n",
       "      <td>Female</td>\n",
       "      <td>43</td>\n",
       "      <td>2.0</td>\n",
       "      <td>125510.82</td>\n",
       "      <td>1</td>\n",
       "      <td>1</td>\n",
       "      <td>1</td>\n",
       "      <td>79084.10</td>\n",
       "      <td>0</td>\n",
       "    </tr>\n",
       "  </tbody>\n",
       "</table>\n",
       "</div>"
      ],
      "text/plain": [
       "   RowNumber  CustomerId   Surname  CreditScore Geography  Gender  Age  \\\n",
       "0          1    15634602  Hargrave          619    France  Female   42   \n",
       "1          2    15647311      Hill          608     Spain  Female   41   \n",
       "2          3    15619304      Onio          502    France  Female   42   \n",
       "3          4    15701354      Boni          699    France  Female   39   \n",
       "4          5    15737888  Mitchell          850     Spain  Female   43   \n",
       "\n",
       "   Tenure    Balance  NumOfProducts  HasCrCard  IsActiveMember  \\\n",
       "0     2.0       0.00              1          1               1   \n",
       "1     1.0   83807.86              1          0               1   \n",
       "2     8.0  159660.80              3          1               0   \n",
       "3     1.0       0.00              2          0               0   \n",
       "4     2.0  125510.82              1          1               1   \n",
       "\n",
       "   EstimatedSalary  Exited  \n",
       "0        101348.88       1  \n",
       "1        112542.58       0  \n",
       "2        113931.57       1  \n",
       "3         93826.63       0  \n",
       "4         79084.10       0  "
      ]
     },
     "execution_count": 4,
     "metadata": {},
     "output_type": "execute_result"
    }
   ],
   "source": [
    "data.head()"
   ]
  },
  {
   "cell_type": "code",
   "execution_count": 5,
   "id": "29099bbe",
   "metadata": {},
   "outputs": [
    {
     "data": {
      "text/html": [
       "<div>\n",
       "<style scoped>\n",
       "    .dataframe tbody tr th:only-of-type {\n",
       "        vertical-align: middle;\n",
       "    }\n",
       "\n",
       "    .dataframe tbody tr th {\n",
       "        vertical-align: top;\n",
       "    }\n",
       "\n",
       "    .dataframe thead th {\n",
       "        text-align: right;\n",
       "    }\n",
       "</style>\n",
       "<table border=\"1\" class=\"dataframe\">\n",
       "  <thead>\n",
       "    <tr style=\"text-align: right;\">\n",
       "      <th></th>\n",
       "      <th>RowNumber</th>\n",
       "      <th>CustomerId</th>\n",
       "      <th>CreditScore</th>\n",
       "      <th>Age</th>\n",
       "      <th>Tenure</th>\n",
       "      <th>Balance</th>\n",
       "      <th>NumOfProducts</th>\n",
       "      <th>HasCrCard</th>\n",
       "      <th>IsActiveMember</th>\n",
       "      <th>EstimatedSalary</th>\n",
       "      <th>Exited</th>\n",
       "    </tr>\n",
       "  </thead>\n",
       "  <tbody>\n",
       "    <tr>\n",
       "      <th>count</th>\n",
       "      <td>10000.00000</td>\n",
       "      <td>1.000000e+04</td>\n",
       "      <td>10000.000000</td>\n",
       "      <td>10000.000000</td>\n",
       "      <td>9091.000000</td>\n",
       "      <td>10000.000000</td>\n",
       "      <td>10000.000000</td>\n",
       "      <td>10000.00000</td>\n",
       "      <td>10000.000000</td>\n",
       "      <td>10000.000000</td>\n",
       "      <td>10000.000000</td>\n",
       "    </tr>\n",
       "    <tr>\n",
       "      <th>mean</th>\n",
       "      <td>5000.50000</td>\n",
       "      <td>1.569094e+07</td>\n",
       "      <td>650.528800</td>\n",
       "      <td>38.921800</td>\n",
       "      <td>4.997690</td>\n",
       "      <td>76485.889288</td>\n",
       "      <td>1.530200</td>\n",
       "      <td>0.70550</td>\n",
       "      <td>0.515100</td>\n",
       "      <td>100090.239881</td>\n",
       "      <td>0.203700</td>\n",
       "    </tr>\n",
       "    <tr>\n",
       "      <th>std</th>\n",
       "      <td>2886.89568</td>\n",
       "      <td>7.193619e+04</td>\n",
       "      <td>96.653299</td>\n",
       "      <td>10.487806</td>\n",
       "      <td>2.894723</td>\n",
       "      <td>62397.405202</td>\n",
       "      <td>0.581654</td>\n",
       "      <td>0.45584</td>\n",
       "      <td>0.499797</td>\n",
       "      <td>57510.492818</td>\n",
       "      <td>0.402769</td>\n",
       "    </tr>\n",
       "    <tr>\n",
       "      <th>min</th>\n",
       "      <td>1.00000</td>\n",
       "      <td>1.556570e+07</td>\n",
       "      <td>350.000000</td>\n",
       "      <td>18.000000</td>\n",
       "      <td>0.000000</td>\n",
       "      <td>0.000000</td>\n",
       "      <td>1.000000</td>\n",
       "      <td>0.00000</td>\n",
       "      <td>0.000000</td>\n",
       "      <td>11.580000</td>\n",
       "      <td>0.000000</td>\n",
       "    </tr>\n",
       "    <tr>\n",
       "      <th>25%</th>\n",
       "      <td>2500.75000</td>\n",
       "      <td>1.562853e+07</td>\n",
       "      <td>584.000000</td>\n",
       "      <td>32.000000</td>\n",
       "      <td>2.000000</td>\n",
       "      <td>0.000000</td>\n",
       "      <td>1.000000</td>\n",
       "      <td>0.00000</td>\n",
       "      <td>0.000000</td>\n",
       "      <td>51002.110000</td>\n",
       "      <td>0.000000</td>\n",
       "    </tr>\n",
       "    <tr>\n",
       "      <th>50%</th>\n",
       "      <td>5000.50000</td>\n",
       "      <td>1.569074e+07</td>\n",
       "      <td>652.000000</td>\n",
       "      <td>37.000000</td>\n",
       "      <td>5.000000</td>\n",
       "      <td>97198.540000</td>\n",
       "      <td>1.000000</td>\n",
       "      <td>1.00000</td>\n",
       "      <td>1.000000</td>\n",
       "      <td>100193.915000</td>\n",
       "      <td>0.000000</td>\n",
       "    </tr>\n",
       "    <tr>\n",
       "      <th>75%</th>\n",
       "      <td>7500.25000</td>\n",
       "      <td>1.575323e+07</td>\n",
       "      <td>718.000000</td>\n",
       "      <td>44.000000</td>\n",
       "      <td>7.000000</td>\n",
       "      <td>127644.240000</td>\n",
       "      <td>2.000000</td>\n",
       "      <td>1.00000</td>\n",
       "      <td>1.000000</td>\n",
       "      <td>149388.247500</td>\n",
       "      <td>0.000000</td>\n",
       "    </tr>\n",
       "    <tr>\n",
       "      <th>max</th>\n",
       "      <td>10000.00000</td>\n",
       "      <td>1.581569e+07</td>\n",
       "      <td>850.000000</td>\n",
       "      <td>92.000000</td>\n",
       "      <td>10.000000</td>\n",
       "      <td>250898.090000</td>\n",
       "      <td>4.000000</td>\n",
       "      <td>1.00000</td>\n",
       "      <td>1.000000</td>\n",
       "      <td>199992.480000</td>\n",
       "      <td>1.000000</td>\n",
       "    </tr>\n",
       "  </tbody>\n",
       "</table>\n",
       "</div>"
      ],
      "text/plain": [
       "         RowNumber    CustomerId   CreditScore           Age       Tenure  \\\n",
       "count  10000.00000  1.000000e+04  10000.000000  10000.000000  9091.000000   \n",
       "mean    5000.50000  1.569094e+07    650.528800     38.921800     4.997690   \n",
       "std     2886.89568  7.193619e+04     96.653299     10.487806     2.894723   \n",
       "min        1.00000  1.556570e+07    350.000000     18.000000     0.000000   \n",
       "25%     2500.75000  1.562853e+07    584.000000     32.000000     2.000000   \n",
       "50%     5000.50000  1.569074e+07    652.000000     37.000000     5.000000   \n",
       "75%     7500.25000  1.575323e+07    718.000000     44.000000     7.000000   \n",
       "max    10000.00000  1.581569e+07    850.000000     92.000000    10.000000   \n",
       "\n",
       "             Balance  NumOfProducts    HasCrCard  IsActiveMember  \\\n",
       "count   10000.000000   10000.000000  10000.00000    10000.000000   \n",
       "mean    76485.889288       1.530200      0.70550        0.515100   \n",
       "std     62397.405202       0.581654      0.45584        0.499797   \n",
       "min         0.000000       1.000000      0.00000        0.000000   \n",
       "25%         0.000000       1.000000      0.00000        0.000000   \n",
       "50%     97198.540000       1.000000      1.00000        1.000000   \n",
       "75%    127644.240000       2.000000      1.00000        1.000000   \n",
       "max    250898.090000       4.000000      1.00000        1.000000   \n",
       "\n",
       "       EstimatedSalary        Exited  \n",
       "count     10000.000000  10000.000000  \n",
       "mean     100090.239881      0.203700  \n",
       "std       57510.492818      0.402769  \n",
       "min          11.580000      0.000000  \n",
       "25%       51002.110000      0.000000  \n",
       "50%      100193.915000      0.000000  \n",
       "75%      149388.247500      0.000000  \n",
       "max      199992.480000      1.000000  "
      ]
     },
     "execution_count": 5,
     "metadata": {},
     "output_type": "execute_result"
    }
   ],
   "source": [
    "data.describe()"
   ]
  },
  {
   "cell_type": "code",
   "execution_count": 6,
   "id": "46cf8a7e",
   "metadata": {},
   "outputs": [
    {
     "name": "stdout",
     "output_type": "stream",
     "text": [
      "Уникальные значения столбца RowNumber\n",
      "[    1     2     3 ...  9998  9999 10000]\n",
      "Уникальные значения столбца CustomerId\n",
      "[15634602 15647311 15619304 ... 15584532 15682355 15628319]\n",
      "Уникальные значения столбца Surname\n",
      "['Hargrave' 'Hill' 'Onio' ... 'Kashiwagi' 'Aldridge' 'Burbidge']\n",
      "Уникальные значения столбца CreditScore\n",
      "[619 608 502 699 850 645 822 376 501 684 528 497 476 549 635 616 653 587\n",
      " 726 732 636 510 669 846 577 756 571 574 411 591 533 553 520 722 475 490\n",
      " 804 582 472 465 556 834 660 776 829 637 550 698 585 788 655 601 656 725\n",
      " 511 614 742 687 555 603 751 581 735 661 675 738 813 657 604 519 664 678\n",
      " 757 416 665 777 543 506 493 652 750 729 646 647 808 524 769 730 515 773\n",
      " 814 710 413 623 670 622 785 605 479 685 538 562 721 628 668 828 674 625\n",
      " 432 770 758 795 686 789 589 461 584 579 663 682 793 691 485 650 754 535\n",
      " 716 539 706 586 631 717 800 683 704 615 667 484 480 578 512 606 597 778\n",
      " 514 525 715 580 807 521 759 516 711 618 643 671 689 620 676 572 695 592\n",
      " 567 694 547 594 673 610 767 763 712 703 662 659 523 772 545 634 739 771\n",
      " 681 544 696 766 727 693 557 531 498 651 791 733 811 707 714 782 775 799\n",
      " 602 744 588 747 583 627 731 629 438 642 806 474 559 429 680 749 734 644\n",
      " 626 649 805 718 840 630 654 762 568 613 522 737 648 443 640 540 460 593\n",
      " 801 611 802 745 483 690 492 709 705 560 752 701 537 487 596 702 486 724\n",
      " 548 464 790 534 748 494 590 468 509 818 816 536 753 774 621 569 658 798\n",
      " 641 542 692 639 765 570 638 599 632 779 527 564 833 504 842 508 417 598\n",
      " 741 607 761 848 546 439 755 760 526 713 700 666 566 495 688 612 477 427\n",
      " 839 819 720 459 503 624 529 563 482 796 445 746 786 554 672 787 499 844\n",
      " 450 815 838 803 736 633 600 679 517 792 743 488 421 841 708 507 505 456\n",
      " 435 561 518 565 728 784 552 609 764 697 723 551 444 719 496 541 830 812\n",
      " 677 420 595 617 809 500 826 434 513 478 797 363 399 463 780 452 575 837\n",
      " 794 824 428 823 781 849 489 431 457 768 831 359 820 573 576 558 817 449\n",
      " 440 415 821 530 350 446 425 740 481 783 358 845 451 458 469 423 404 836\n",
      " 473 835 466 491 351 827 843 365 532 414 453 471 401 810 832 470 447 422\n",
      " 825 430 436 426 408 847 418 437 410 454 407 455 462 386 405 383 395 467\n",
      " 433 442 424 448 441 367 412 382 373 419]\n",
      "Уникальные значения столбца Geography\n",
      "['France' 'Spain' 'Germany']\n",
      "Уникальные значения столбца Gender\n",
      "['Female' 'Male']\n",
      "Уникальные значения столбца Age\n",
      "[42 41 39 43 44 50 29 27 31 24 34 25 35 45 58 32 38 46 36 33 40 51 61 49\n",
      " 37 19 66 56 26 21 55 75 22 30 28 65 48 52 57 73 47 54 72 20 67 79 62 53\n",
      " 80 59 68 23 60 70 63 64 18 82 69 74 71 76 77 88 85 84 78 81 92 83]\n",
      "Уникальные значения столбца Tenure\n",
      "[ 2.  1.  8.  7.  4.  6.  3. 10.  5.  9.  0. nan]\n",
      "Уникальные значения столбца Balance\n",
      "[     0.    83807.86 159660.8  ...  57369.61  75075.31 130142.79]\n",
      "Уникальные значения столбца NumOfProducts\n",
      "[1 3 2 4]\n",
      "Уникальные значения столбца HasCrCard\n",
      "[1 0]\n",
      "Уникальные значения столбца IsActiveMember\n",
      "[1 0]\n",
      "Уникальные значения столбца EstimatedSalary\n",
      "[101348.88 112542.58 113931.57 ...  42085.58  92888.52  38190.78]\n",
      "Уникальные значения столбца Exited\n",
      "[1 0]\n"
     ]
    }
   ],
   "source": [
    "def check_columns(df):\n",
    "    for column in df.columns:\n",
    "        print('Уникальные значения столбца', column)\n",
    "        print(df[column].unique())\n",
    "\n",
    "check_columns(data)\n"
   ]
  },
  {
   "cell_type": "code",
   "execution_count": 7,
   "id": "e02f71a7",
   "metadata": {},
   "outputs": [
    {
     "data": {
      "text/plain": [
       "RowNumber            0\n",
       "CustomerId           0\n",
       "Surname              0\n",
       "CreditScore          0\n",
       "Geography            0\n",
       "Gender               0\n",
       "Age                  0\n",
       "Tenure             909\n",
       "Balance              0\n",
       "NumOfProducts        0\n",
       "HasCrCard            0\n",
       "IsActiveMember       0\n",
       "EstimatedSalary      0\n",
       "Exited               0\n",
       "dtype: int64"
      ]
     },
     "execution_count": 7,
     "metadata": {},
     "output_type": "execute_result"
    }
   ],
   "source": [
    "data.isna().sum()"
   ]
  },
  {
   "cell_type": "code",
   "execution_count": 8,
   "id": "da177dd4",
   "metadata": {},
   "outputs": [],
   "source": [
    "data['Tenure'] = data['Tenure'].fillna(0)"
   ]
  },
  {
   "cell_type": "code",
   "execution_count": 9,
   "id": "88d9a3d3",
   "metadata": {},
   "outputs": [
    {
     "data": {
      "text/plain": [
       "RowNumber          0\n",
       "CustomerId         0\n",
       "Surname            0\n",
       "CreditScore        0\n",
       "Geography          0\n",
       "Gender             0\n",
       "Age                0\n",
       "Tenure             0\n",
       "Balance            0\n",
       "NumOfProducts      0\n",
       "HasCrCard          0\n",
       "IsActiveMember     0\n",
       "EstimatedSalary    0\n",
       "Exited             0\n",
       "dtype: int64"
      ]
     },
     "execution_count": 9,
     "metadata": {},
     "output_type": "execute_result"
    }
   ],
   "source": [
    "data.isna().sum()"
   ]
  },
  {
   "cell_type": "code",
   "execution_count": 10,
   "id": "1b05edad",
   "metadata": {
    "scrolled": true
   },
   "outputs": [
    {
     "data": {
      "text/plain": [
       "0.0     1291\n",
       "1.0      952\n",
       "2.0      950\n",
       "8.0      933\n",
       "3.0      928\n",
       "5.0      927\n",
       "7.0      925\n",
       "4.0      885\n",
       "9.0      882\n",
       "6.0      881\n",
       "10.0     446\n",
       "Name: Tenure, dtype: int64"
      ]
     },
     "execution_count": 10,
     "metadata": {},
     "output_type": "execute_result"
    }
   ],
   "source": [
    "data['Tenure'].value_counts()"
   ]
  },
  {
   "cell_type": "code",
   "execution_count": 11,
   "id": "328d6317",
   "metadata": {
    "scrolled": true
   },
   "outputs": [
    {
     "data": {
      "text/plain": [
       "0"
      ]
     },
     "execution_count": 11,
     "metadata": {},
     "output_type": "execute_result"
    }
   ],
   "source": [
    "data.duplicated().sum() #дубликатов нет"
   ]
  },
  {
   "cell_type": "markdown",
   "id": "dc339b1f",
   "metadata": {},
   "source": [
    "**После анализа датафрейма мы пришли к выводу, что необходимо удалить столбца RowNumber, CustomerId и Surname. RowNumber - он повторяет значение индекса, начиная с единицы, CustomerId - никак не влияет на действия пользователя и в нём нет дубликатов, Surname - фамилия, а именно признак, который никак сильно не повлияет на то, останется ли человек в банке или нет**"
   ]
  },
  {
   "cell_type": "code",
   "execution_count": 12,
   "id": "79d95559",
   "metadata": {
    "scrolled": true
   },
   "outputs": [
    {
     "data": {
      "text/html": [
       "<div>\n",
       "<style scoped>\n",
       "    .dataframe tbody tr th:only-of-type {\n",
       "        vertical-align: middle;\n",
       "    }\n",
       "\n",
       "    .dataframe tbody tr th {\n",
       "        vertical-align: top;\n",
       "    }\n",
       "\n",
       "    .dataframe thead th {\n",
       "        text-align: right;\n",
       "    }\n",
       "</style>\n",
       "<table border=\"1\" class=\"dataframe\">\n",
       "  <thead>\n",
       "    <tr style=\"text-align: right;\">\n",
       "      <th></th>\n",
       "      <th>CreditScore</th>\n",
       "      <th>Geography</th>\n",
       "      <th>Gender</th>\n",
       "      <th>Age</th>\n",
       "      <th>Tenure</th>\n",
       "      <th>Balance</th>\n",
       "      <th>NumOfProducts</th>\n",
       "      <th>HasCrCard</th>\n",
       "      <th>IsActiveMember</th>\n",
       "      <th>EstimatedSalary</th>\n",
       "      <th>Exited</th>\n",
       "    </tr>\n",
       "  </thead>\n",
       "  <tbody>\n",
       "    <tr>\n",
       "      <th>0</th>\n",
       "      <td>619</td>\n",
       "      <td>France</td>\n",
       "      <td>Female</td>\n",
       "      <td>42</td>\n",
       "      <td>2.0</td>\n",
       "      <td>0.00</td>\n",
       "      <td>1</td>\n",
       "      <td>1</td>\n",
       "      <td>1</td>\n",
       "      <td>101348.88</td>\n",
       "      <td>1</td>\n",
       "    </tr>\n",
       "    <tr>\n",
       "      <th>1</th>\n",
       "      <td>608</td>\n",
       "      <td>Spain</td>\n",
       "      <td>Female</td>\n",
       "      <td>41</td>\n",
       "      <td>1.0</td>\n",
       "      <td>83807.86</td>\n",
       "      <td>1</td>\n",
       "      <td>0</td>\n",
       "      <td>1</td>\n",
       "      <td>112542.58</td>\n",
       "      <td>0</td>\n",
       "    </tr>\n",
       "    <tr>\n",
       "      <th>2</th>\n",
       "      <td>502</td>\n",
       "      <td>France</td>\n",
       "      <td>Female</td>\n",
       "      <td>42</td>\n",
       "      <td>8.0</td>\n",
       "      <td>159660.80</td>\n",
       "      <td>3</td>\n",
       "      <td>1</td>\n",
       "      <td>0</td>\n",
       "      <td>113931.57</td>\n",
       "      <td>1</td>\n",
       "    </tr>\n",
       "    <tr>\n",
       "      <th>3</th>\n",
       "      <td>699</td>\n",
       "      <td>France</td>\n",
       "      <td>Female</td>\n",
       "      <td>39</td>\n",
       "      <td>1.0</td>\n",
       "      <td>0.00</td>\n",
       "      <td>2</td>\n",
       "      <td>0</td>\n",
       "      <td>0</td>\n",
       "      <td>93826.63</td>\n",
       "      <td>0</td>\n",
       "    </tr>\n",
       "    <tr>\n",
       "      <th>4</th>\n",
       "      <td>850</td>\n",
       "      <td>Spain</td>\n",
       "      <td>Female</td>\n",
       "      <td>43</td>\n",
       "      <td>2.0</td>\n",
       "      <td>125510.82</td>\n",
       "      <td>1</td>\n",
       "      <td>1</td>\n",
       "      <td>1</td>\n",
       "      <td>79084.10</td>\n",
       "      <td>0</td>\n",
       "    </tr>\n",
       "    <tr>\n",
       "      <th>...</th>\n",
       "      <td>...</td>\n",
       "      <td>...</td>\n",
       "      <td>...</td>\n",
       "      <td>...</td>\n",
       "      <td>...</td>\n",
       "      <td>...</td>\n",
       "      <td>...</td>\n",
       "      <td>...</td>\n",
       "      <td>...</td>\n",
       "      <td>...</td>\n",
       "      <td>...</td>\n",
       "    </tr>\n",
       "    <tr>\n",
       "      <th>9995</th>\n",
       "      <td>771</td>\n",
       "      <td>France</td>\n",
       "      <td>Male</td>\n",
       "      <td>39</td>\n",
       "      <td>5.0</td>\n",
       "      <td>0.00</td>\n",
       "      <td>2</td>\n",
       "      <td>1</td>\n",
       "      <td>0</td>\n",
       "      <td>96270.64</td>\n",
       "      <td>0</td>\n",
       "    </tr>\n",
       "    <tr>\n",
       "      <th>9996</th>\n",
       "      <td>516</td>\n",
       "      <td>France</td>\n",
       "      <td>Male</td>\n",
       "      <td>35</td>\n",
       "      <td>10.0</td>\n",
       "      <td>57369.61</td>\n",
       "      <td>1</td>\n",
       "      <td>1</td>\n",
       "      <td>1</td>\n",
       "      <td>101699.77</td>\n",
       "      <td>0</td>\n",
       "    </tr>\n",
       "    <tr>\n",
       "      <th>9997</th>\n",
       "      <td>709</td>\n",
       "      <td>France</td>\n",
       "      <td>Female</td>\n",
       "      <td>36</td>\n",
       "      <td>7.0</td>\n",
       "      <td>0.00</td>\n",
       "      <td>1</td>\n",
       "      <td>0</td>\n",
       "      <td>1</td>\n",
       "      <td>42085.58</td>\n",
       "      <td>1</td>\n",
       "    </tr>\n",
       "    <tr>\n",
       "      <th>9998</th>\n",
       "      <td>772</td>\n",
       "      <td>Germany</td>\n",
       "      <td>Male</td>\n",
       "      <td>42</td>\n",
       "      <td>3.0</td>\n",
       "      <td>75075.31</td>\n",
       "      <td>2</td>\n",
       "      <td>1</td>\n",
       "      <td>0</td>\n",
       "      <td>92888.52</td>\n",
       "      <td>1</td>\n",
       "    </tr>\n",
       "    <tr>\n",
       "      <th>9999</th>\n",
       "      <td>792</td>\n",
       "      <td>France</td>\n",
       "      <td>Female</td>\n",
       "      <td>28</td>\n",
       "      <td>0.0</td>\n",
       "      <td>130142.79</td>\n",
       "      <td>1</td>\n",
       "      <td>1</td>\n",
       "      <td>0</td>\n",
       "      <td>38190.78</td>\n",
       "      <td>0</td>\n",
       "    </tr>\n",
       "  </tbody>\n",
       "</table>\n",
       "<p>10000 rows × 11 columns</p>\n",
       "</div>"
      ],
      "text/plain": [
       "      CreditScore Geography  Gender  Age  Tenure    Balance  NumOfProducts  \\\n",
       "0             619    France  Female   42     2.0       0.00              1   \n",
       "1             608     Spain  Female   41     1.0   83807.86              1   \n",
       "2             502    France  Female   42     8.0  159660.80              3   \n",
       "3             699    France  Female   39     1.0       0.00              2   \n",
       "4             850     Spain  Female   43     2.0  125510.82              1   \n",
       "...           ...       ...     ...  ...     ...        ...            ...   \n",
       "9995          771    France    Male   39     5.0       0.00              2   \n",
       "9996          516    France    Male   35    10.0   57369.61              1   \n",
       "9997          709    France  Female   36     7.0       0.00              1   \n",
       "9998          772   Germany    Male   42     3.0   75075.31              2   \n",
       "9999          792    France  Female   28     0.0  130142.79              1   \n",
       "\n",
       "      HasCrCard  IsActiveMember  EstimatedSalary  Exited  \n",
       "0             1               1        101348.88       1  \n",
       "1             0               1        112542.58       0  \n",
       "2             1               0        113931.57       1  \n",
       "3             0               0         93826.63       0  \n",
       "4             1               1         79084.10       0  \n",
       "...         ...             ...              ...     ...  \n",
       "9995          1               0         96270.64       0  \n",
       "9996          1               1        101699.77       0  \n",
       "9997          0               1         42085.58       1  \n",
       "9998          1               0         92888.52       1  \n",
       "9999          1               0         38190.78       0  \n",
       "\n",
       "[10000 rows x 11 columns]"
      ]
     },
     "execution_count": 12,
     "metadata": {},
     "output_type": "execute_result"
    }
   ],
   "source": [
    "data.drop(['CustomerId', 'Surname', 'RowNumber'], axis=1)"
   ]
  },
  {
   "cell_type": "code",
   "execution_count": 13,
   "id": "45f9b803",
   "metadata": {},
   "outputs": [
    {
     "data": {
      "text/plain": [
       "(10000, 14)"
      ]
     },
     "execution_count": 13,
     "metadata": {},
     "output_type": "execute_result"
    }
   ],
   "source": [
    "data.shape"
   ]
  },
  {
   "cell_type": "markdown",
   "id": "81b219de",
   "metadata": {},
   "source": [
    "**Создадим новый датафрейм методом прямого кодирования (процесс, с помощью которого категориальные переменные преобразуются в подходящую алгоритмам Машинного обучения (ML) форму), чтобы избежать дамми-ловушек.**"
   ]
  },
  {
   "cell_type": "code",
   "execution_count": 14,
   "id": "d33d5761",
   "metadata": {},
   "outputs": [
    {
     "name": "stdout",
     "output_type": "stream",
     "text": [
      "<class 'pandas.core.frame.DataFrame'>\n",
      "RangeIndex: 10000 entries, 0 to 9999\n",
      "Columns: 2945 entries, RowNumber to Gender_Male\n",
      "dtypes: float64(3), int64(8), uint8(2934)\n",
      "memory usage: 28.8 MB\n"
     ]
    }
   ],
   "source": [
    "new_data = pd.get_dummies(data, drop_first=True)\n",
    "new_data.info()"
   ]
  },
  {
   "cell_type": "markdown",
   "id": "7197baa3",
   "metadata": {},
   "source": [
    "**Вывод по Шагу 1. Данные готовы к исследованию. Мы удалили три ненужных столбца, а именно, RowNumber, CustomerId и Surname, поскольку они сильно не влияют на исследования. Дубликатов в датафрейме нет, нулевые значения заменили нулями.**"
   ]
  },
  {
   "cell_type": "markdown",
   "id": "385cda2b",
   "metadata": {},
   "source": [
    "# Шаг 2. Исследование задачи"
   ]
  },
  {
   "cell_type": "markdown",
   "id": "7bff195f",
   "metadata": {},
   "source": [
    "**В данном исследовании мы будем использовать 3 модели, а именно DecisionTree (решющее дерево) RandomForest (случайный лес) LogisticRegression (логистическую регрессию)** "
   ]
  },
  {
   "cell_type": "code",
   "execution_count": 15,
   "id": "7be0fcf4",
   "metadata": {},
   "outputs": [
    {
     "name": "stdout",
     "output_type": "stream",
     "text": [
      "(6000, 2944) (2000, 2944) (2000, 2944)\n",
      "(6000,) (2000,) (2000,)\n"
     ]
    }
   ],
   "source": [
    "target = new_data['Exited']\n",
    "features = new_data.drop(['Exited'], axis=1)\n",
    "\n",
    "features_train, features_valid, target_train, target_valid = train_test_split(features, target, test_size=0.4, random_state=20052020) #делим выборку на тренировочную и валидационную\n",
    "features_valid, features_test, target_valid, target_test = train_test_split(features_valid, target_valid, test_size=0.5, random_state=20052020) #делим выборку на тестовую и валидационную\n",
    "\n",
    "print(features_train.shape, features_valid.shape, features_test.shape)\n",
    "print(target_train.shape, target_valid.shape, target_test.shape)\n"
   ]
  },
  {
   "cell_type": "markdown",
   "id": "fc62d25f",
   "metadata": {},
   "source": [
    "**Посмотрим, существует ли в выборке дисбаланс классов.**"
   ]
  },
  {
   "cell_type": "code",
   "execution_count": 16,
   "id": "38232f8f",
   "metadata": {},
   "outputs": [
    {
     "data": {
      "text/plain": [
       "0    7963\n",
       "1    2037\n",
       "Name: Exited, dtype: int64"
      ]
     },
     "execution_count": 16,
     "metadata": {},
     "output_type": "execute_result"
    }
   ],
   "source": [
    "target.value_counts()"
   ]
  },
  {
   "cell_type": "code",
   "execution_count": 17,
   "id": "9da67245",
   "metadata": {},
   "outputs": [
    {
     "data": {
      "text/plain": [
       "3.9091801669121256"
      ]
     },
     "execution_count": 17,
     "metadata": {},
     "output_type": "execute_result"
    }
   ],
   "source": [
    "7963 / 2037"
   ]
  },
  {
   "cell_type": "markdown",
   "id": "304e37be",
   "metadata": {},
   "source": [
    "**Соотношение классов 1 к 4. Продолжим изучать модель без исправления баланса классов по условию задачи.**"
   ]
  },
  {
   "cell_type": "markdown",
   "id": "da460dec",
   "metadata": {},
   "source": [
    "**Модель решающего дерева DecisionTreeClassifier**"
   ]
  },
  {
   "cell_type": "code",
   "execution_count": 18,
   "id": "668f69c8",
   "metadata": {},
   "outputs": [
    {
     "name": "stdout",
     "output_type": "stream",
     "text": [
      "Максимальная глубина 2 F1: 0.5247813411078718\n",
      "Максимальная глубина 3 F1: 0.5514285714285715\n",
      "Максимальная глубина 4 F1: 0.49185667752443\n",
      "Максимальная глубина 5 F1: 0.5405405405405405\n",
      "Максимальная глубина 6 F1: 0.5905292479108636\n",
      "Максимальная глубина 7 F1: 0.6107290233837688\n",
      "Максимальная глубина 8 F1: 0.5678321678321679\n",
      "Максимальная глубина 9 F1: 0.6080206985769728\n",
      "Максимальная глубина 10 F1: 0.5608465608465607\n",
      "Максимальная глубина 11 F1: 0.5953002610966057\n",
      "Максимальная глубина 12 F1: 0.5790139064475347\n",
      "Максимальная глубина 13 F1: 0.5786163522012578\n",
      "Максимальная глубина 14 F1: 0.575031525851198\n",
      "Максимальная глубина 15 F1: 0.5861635220125786\n",
      "Максимальная глубина 16 F1: 0.5721455457967378\n",
      "Максимальная глубина 17 F1: 0.581453634085213\n",
      "Максимальная глубина 18 F1: 0.57465495608532\n",
      "Максимальная глубина 19 F1: 0.5678704856787048\n",
      "Максимальная глубина 20 F1: 0.5610062893081761\n",
      "Максимальная глубина 21 F1: 0.5786163522012578\n",
      "Максимальная глубина 22 F1: 0.5685785536159601\n",
      "Максимальная глубина 23 F1: 0.5714285714285715\n",
      "Максимальная глубина 24 F1: 0.58\n",
      "Максимальная глубина 25 F1: 0.5710754017305316\n",
      "Максимальная глубина 26 F1: 0.5775\n",
      "Максимальная глубина 27 F1: 0.5696517412935324\n",
      "Максимальная глубина 28 F1: 0.5580246913580247\n",
      "Максимальная глубина 29 F1: 0.5653798256537982\n",
      "CPU times: user 13.3 s, sys: 2.08 s, total: 15.4 s\n",
      "Wall time: 15.5 s\n"
     ]
    }
   ],
   "source": [
    "%%time\n",
    "\n",
    "for depth in range(2, 30):\n",
    "    model = DecisionTreeClassifier(random_state=20052020, max_depth=depth)\n",
    "    model.fit(features_train, target_train)\n",
    "    predicted_valid = model.predict(features_valid)\n",
    "    print('Максимальная глубина', depth, 'F1:', f1_score(target_valid, predicted_valid))"
   ]
  },
  {
   "cell_type": "markdown",
   "id": "adbb9356",
   "metadata": {},
   "source": [
    "**Лучший результат был на глубине - 7.**"
   ]
  },
  {
   "cell_type": "markdown",
   "id": "863f54e2",
   "metadata": {},
   "source": [
    "**Рассмотрим модель случайного леса на разном числе деревьев.**"
   ]
  },
  {
   "cell_type": "code",
   "execution_count": 19,
   "id": "479b1577",
   "metadata": {
    "scrolled": true
   },
   "outputs": [
    {
     "name": "stdout",
     "output_type": "stream",
     "text": [
      "N-estimators 50 0.4850498338870432\n",
      "N-estimators 60 0.5016501650165015\n",
      "N-estimators 70 0.5098039215686274\n",
      "N-estimators 80 0.5065359477124184\n",
      "N-estimators 90 0.5122349102773247\n",
      "N-estimators 100 0.5121555915721232\n",
      "N-estimators 110 0.5098039215686274\n",
      "N-estimators 120 0.5065789473684211\n",
      "N-estimators 130 0.500823723228995\n",
      "N-estimators 140 0.5049180327868853\n",
      "N-estimators 150 0.5057471264367817\n",
      "N-estimators 160 0.5114754098360655\n",
      "N-estimators 170 0.49751243781094534\n",
      "N-estimators 180 0.49419568822553894\n",
      "N-estimators 190 0.49586776859504134\n",
      "N-estimators 200 0.49751243781094534\n",
      "N-estimators 210 0.49419568822553894\n",
      "N-estimators 220 0.4966887417218543\n",
      "N-estimators 230 0.5024793388429751\n",
      "N-estimators 240 0.49834983498349844\n",
      "N-estimators 250 0.49917355371900823\n",
      "N-estimators 260 0.5032894736842106\n",
      "N-estimators 270 0.5016501650165015\n",
      "N-estimators 280 0.5057471264367817\n",
      "N-estimators 290 0.500823723228995\n",
      "CPU times: user 5min 44s, sys: 2.41 s, total: 5min 47s\n",
      "Wall time: 5min 47s\n"
     ]
    }
   ],
   "source": [
    "%%time\n",
    "\n",
    "for est in range(50, 300, 10):\n",
    "    model = RandomForestClassifier(random_state=20052020, n_estimators=est)\n",
    "    model.fit(features_train, target_train)\n",
    "    predicted_valid = model.predict(features_valid)\n",
    "    print('N-estimators', est, f1_score(target_valid, predicted_valid))"
   ]
  },
  {
   "cell_type": "markdown",
   "id": "63e11b1f",
   "metadata": {},
   "source": [
    "**Лучшее число деревьев (90) было получено со значением 0,5122. Проведём исследование с 1 шагом.**"
   ]
  },
  {
   "cell_type": "code",
   "execution_count": 30,
   "id": "28585c55",
   "metadata": {},
   "outputs": [
    {
     "name": "stdout",
     "output_type": "stream",
     "text": [
      "N-estimators 90 F1 0.5122349102773247\n",
      "N-estimators 91 F1 0.5217391304347827\n",
      "N-estimators 92 F1 0.5138211382113821\n",
      "N-estimators 93 F1 0.5193548387096775\n",
      "N-estimators 94 F1 0.5138211382113821\n",
      "N-estimators 95 F1 0.5201938610662359\n",
      "N-estimators 96 F1 0.5073649754500819\n",
      "N-estimators 97 F1 0.5258064516129033\n",
      "N-estimators 98 F1 0.511400651465798\n",
      "N-estimators 99 F1 0.5193548387096775\n",
      "CPU times: user 1min 17s, sys: 1.06 s, total: 1min 18s\n",
      "Wall time: 1min 19s\n"
     ]
    }
   ],
   "source": [
    "%%time\n",
    "\n",
    "for est in range(90, 100, 1):\n",
    "    model = RandomForestClassifier(random_state=20052020, n_estimators=est)\n",
    "    model.fit(features_train, target_train)\n",
    "    predicted_valid = model.predict(features_valid)\n",
    "    print('N-estimators', est, 'F1', f1_score(target_valid, predicted_valid))"
   ]
  },
  {
   "cell_type": "markdown",
   "id": "b3516cf6",
   "metadata": {},
   "source": [
    "**Лучший результат был достигнут  с числом деревьев 97 со значением 0.5258**"
   ]
  },
  {
   "cell_type": "markdown",
   "id": "52ffc1e1",
   "metadata": {},
   "source": [
    "**Перейдём к логистической регрессии LogisticRegressionClassifier**"
   ]
  },
  {
   "cell_type": "code",
   "execution_count": 31,
   "id": "17c5cd04",
   "metadata": {},
   "outputs": [
    {
     "name": "stdout",
     "output_type": "stream",
     "text": [
      "F1-score 0.0\n",
      "CPU times: user 355 ms, sys: 128 ms, total: 483 ms\n",
      "Wall time: 458 ms\n"
     ]
    }
   ],
   "source": [
    "%%time\n",
    "\n",
    "model =  LogisticRegression(random_state=20052020, solver='liblinear')\n",
    "model.fit(features_train, target_train)\n",
    "predicted_valid = model.predict(features_valid)\n",
    "print('F1-score', f1_score(target_valid, predicted_valid))"
   ]
  },
  {
   "cell_type": "markdown",
   "id": "93291b6b",
   "metadata": {},
   "source": [
    "**Результаты работы модели довольно низкие, точнее равны нулю. Скорее всего это произошло из-за низкого precision или recall. Возможно они близки к нулвому значению.**"
   ]
  },
  {
   "cell_type": "markdown",
   "id": "8b8b01ef",
   "metadata": {},
   "source": [
    "**Теперь проведем оценку accuracy, precision и recall, также отобразим F-меру**"
   ]
  },
  {
   "cell_type": "code",
   "execution_count": 32,
   "id": "2e4a8673",
   "metadata": {},
   "outputs": [
    {
     "name": "stdout",
     "output_type": "stream",
     "text": [
      "Модель решающего дерева\n",
      "Точность попадания по классам 0.8585\n",
      "Precision 0.75\n",
      "Recall 0.5150812064965197\n",
      "Accuracy 0.8585\n",
      "F1_score 0.6107290233837688\n",
      "\n",
      "Модель случайного леса\n",
      "Точность попадания по классам 0.8505\n",
      "Precision 0.8626373626373627\n",
      "Recall 0.3642691415313225\n",
      "Accuracy 0.8505\n",
      "F1_score 0.5122349102773247\n",
      "\n",
      "Модель логиcтической регрессии\n",
      "Точность попадания по классам 0.7845\n",
      "Precision 0.0\n",
      "Recall 0.0\n",
      "Accuracy 0.7845\n",
      "F1_score 0.0\n",
      "\n",
      "CPU times: user 8.21 s, sys: 336 ms, total: 8.54 s\n",
      "Wall time: 8.48 s\n"
     ]
    },
    {
     "name": "stderr",
     "output_type": "stream",
     "text": [
      "/opt/conda/lib/python3.9/site-packages/sklearn/metrics/_classification.py:1245: UndefinedMetricWarning: Precision is ill-defined and being set to 0.0 due to no predicted samples. Use `zero_division` parameter to control this behavior.\n",
      "  _warn_prf(average, modifier, msg_start, len(result))\n"
     ]
    }
   ],
   "source": [
    "%%time\n",
    "\n",
    "model = DecisionTreeClassifier(random_state=20052020, max_depth=7)\n",
    "model.fit(features_train, target_train)\n",
    "predicted_valid = model.predict(features_valid)\n",
    "print('Модель решающего дерева')\n",
    "print('Точность попадания по классам', accuracy_score(target_valid, predicted_valid))\n",
    "print('Precision', precision_score(target_valid, predicted_valid))\n",
    "print('Recall', recall_score(target_valid, predicted_valid))\n",
    "print('Accuracy', accuracy_score(target_valid, predicted_valid))\n",
    "print('F1_score', f1_score(target_valid, predicted_valid))\n",
    "print()\n",
    "\n",
    "model = RandomForestClassifier(random_state=20052020, n_estimators=90)\n",
    "model.fit(features_train, target_train)\n",
    "predicted_valid = model.predict(features_valid)\n",
    "print('Модель случайного леса')\n",
    "print('Точность попадания по классам', accuracy_score(target_valid, predicted_valid))\n",
    "print('Precision', precision_score(target_valid, predicted_valid))\n",
    "print('Recall', recall_score(target_valid, predicted_valid))\n",
    "print('Accuracy', accuracy_score(target_valid, predicted_valid))\n",
    "print('F1_score', f1_score(target_valid, predicted_valid))\n",
    "print()\n",
    "\n",
    "model = LogisticRegression(random_state=20052020, solver='liblinear')\n",
    "model.fit(features_train, target_train)\n",
    "predicted_valid = model.predict(features_valid)\n",
    "print('Модель логиcтической регрессии')\n",
    "print('Точность попадания по классам', accuracy_score(target_valid, predicted_valid))\n",
    "print('Precision', precision_score(target_valid, predicted_valid))\n",
    "print('Recall', recall_score(target_valid, predicted_valid))\n",
    "print('Accuracy', accuracy_score(target_valid, predicted_valid))\n",
    "print('F1_score', f1_score(target_valid, predicted_valid))\n",
    "print()"
   ]
  },
  {
   "cell_type": "markdown",
   "id": "f4a79fe2",
   "metadata": {},
   "source": [
    "**Постороим ROC-линию для каждой модели и выведем показатель ROC-AUC.**"
   ]
  },
  {
   "cell_type": "code",
   "execution_count": 33,
   "id": "62248232",
   "metadata": {},
   "outputs": [
    {
     "name": "stdout",
     "output_type": "stream",
     "text": [
      "ROC_AUC DecisionTreeClassifier 0.8304009381298623\n",
      "ROC_AUC RandomForestClassifier 0.8379034631247237\n",
      "ROC_AUC LogisticRegression 0.5700721194725533\n"
     ]
    },
    {
     "data": {
      "image/png": "[encoded data removed]",
      "text/plain": [
       "<Figure size 864x648 with 1 Axes>"
      ]
     },
     "metadata": {
      "needs_background": "light"
     },
     "output_type": "display_data"
    }
   ],
   "source": [
    "plt.figure(figsize=[12,9])\n",
    "\n",
    "plt.plot([0, 1], [0, 1], linestyle='--', label='RandomModel')\n",
    "\n",
    "model = DecisionTreeClassifier(random_state=20052020, max_depth=7)\n",
    "model.fit(features_train, target_train)\n",
    "probabilities_valid = model.predict_proba(features_valid)\n",
    "probabilities_one_valid = probabilities_valid[:, 1]\n",
    "fpr, tpr, thresholds = roc_curve(target_valid, probabilities_one_valid)\n",
    "auc_roc = roc_auc_score(target_valid, probabilities_one_valid)\n",
    "print('ROC_AUC DecisionTreeClassifier', auc_roc)\n",
    "plt.plot(fpr, tpr, label='DecisionTreeClassifier')\n",
    "\n",
    "model = RandomForestClassifier(random_state=20052020, max_depth=90)\n",
    "model.fit(features_train, target_train)\n",
    "probabilities_valid = model.predict_proba(features_valid)\n",
    "probabilities_one_valid = probabilities_valid[:, 1]\n",
    "fpr, tpr, thresholds = roc_curve(target_valid, probabilities_one_valid)\n",
    "auc_roc = roc_auc_score(target_valid, probabilities_one_valid)\n",
    "print('ROC_AUC RandomForestClassifier', auc_roc)\n",
    "plt.plot(fpr, tpr, label='RandomForestClassifier')\n",
    "\n",
    "model = LogisticRegression(random_state=20052020, solver='liblinear')\n",
    "model.fit(features_train, target_train)\n",
    "probabilities_valid = model.predict_proba(features_valid)\n",
    "probabilities_one_valid = probabilities_valid[:, 1]\n",
    "fpr, tpr, thresholds = roc_curve(target_valid, probabilities_one_valid)\n",
    "auc_roc = roc_auc_score(target_valid, probabilities_one_valid)\n",
    "print('ROC_AUC LogisticRegression', auc_roc)\n",
    "plt.plot(fpr, tpr, label='LogisticRegression')\n",
    "\n",
    "plt.xlim([0,1])\n",
    "plt.ylim([0,1])\n",
    "\n",
    "plt.xlabel('False Positive Rate')\n",
    "plt.ylabel('True Positive Rate')\n",
    "\n",
    "plt.legend(loc='lower right', fontsize='x-large')\n",
    "\n",
    "plt.title('ROC-кривая')\n",
    "plt.show()"
   ]
  },
  {
   "cell_type": "markdown",
   "id": "a1aa76a1",
   "metadata": {},
   "source": [
    "**Исходя из вышеполученного графика, можно сказать, что метрика f1 и ROC-AUC лучшие на модели RandomRofestClassifier.**"
   ]
  },
  {
   "cell_type": "markdown",
   "id": "7e8e05b8",
   "metadata": {},
   "source": [
    "**Вывод по шагу 2.**\n",
    "\n",
    "* В данных существует дисбаланс классов с соотношением 1 к 4.\n",
    "* Скорее всего, дисбаланс классов влияет на качество моделей.\n",
    "* Все модели имеют ниже recall чем precision из-за перекоса данных, что в итоге, влияет на f1-меру."
   ]
  },
  {
   "cell_type": "markdown",
   "id": "5b0c088e",
   "metadata": {},
   "source": [
    "# Шаг 3. Борьба с дисбалансом"
   ]
  },
  {
   "cell_type": "markdown",
   "id": "08b8f255",
   "metadata": {},
   "source": [
    "Чтобы убрать дисбаланс классов, выполним сравнение моделей:\n",
    "\n",
    "* Со взвешенными классами\n",
    "* С увеличенной выборкой\n",
    "* С уменьшенной выборкой"
   ]
  },
  {
   "cell_type": "markdown",
   "id": "6f3792d1",
   "metadata": {},
   "source": [
    "**Изучим возможности моделей по взвешиванию классов**"
   ]
  },
  {
   "cell_type": "code",
   "execution_count": 34,
   "id": "83c672d9",
   "metadata": {},
   "outputs": [
    {
     "name": "stdout",
     "output_type": "stream",
     "text": [
      "Модель решающего дерева\n",
      "Точность попадания по классам 0.7575\n",
      "Precision 0.46175637393767704\n",
      "Recall 0.7563805104408353\n",
      "Accuracy 0.7575\n",
      "F1_score 0.573438874230431\n",
      "\n",
      "Модель случайного леса\n",
      "Точность попадания по классам 0.8385\n",
      "Precision 0.8552631578947368\n",
      "Recall 0.30162412993039445\n",
      "Accuracy 0.8385\n",
      "F1_score 0.4459691252144083\n",
      "\n",
      "Модель логиcтической регрессии\n",
      "Точность попадания по классам 0.709\n",
      "Precision 0.4005270092226614\n",
      "Recall 0.7053364269141531\n",
      "Accuracy 0.709\n",
      "F1_score 0.5109243697478991\n",
      "CPU times: user 8.18 s, sys: 318 ms, total: 8.5 s\n",
      "Wall time: 8.47 s\n"
     ]
    }
   ],
   "source": [
    "%%time\n",
    "\n",
    "model = DecisionTreeClassifier(random_state=20052020, max_depth=7, class_weight='balanced')\n",
    "model.fit(features_train, target_train)\n",
    "predicted_valid = model.predict(features_valid)\n",
    "print('Модель решающего дерева')\n",
    "print('Точность попадания по классам', accuracy_score(target_valid, predicted_valid))\n",
    "print('Precision', precision_score(target_valid, predicted_valid))\n",
    "print('Recall', recall_score(target_valid, predicted_valid))\n",
    "print('Accuracy', accuracy_score(target_valid, predicted_valid))\n",
    "print('F1_score', f1_score(target_valid, predicted_valid))\n",
    "print()\n",
    "\n",
    "model = RandomForestClassifier(random_state=20052020, n_estimators=90, class_weight='balanced')\n",
    "model.fit(features_train, target_train)\n",
    "predicted_valid = model.predict(features_valid)\n",
    "print('Модель случайного леса')\n",
    "print('Точность попадания по классам', accuracy_score(target_valid, predicted_valid))\n",
    "print('Precision', precision_score(target_valid, predicted_valid))\n",
    "print('Recall', recall_score(target_valid, predicted_valid))\n",
    "print('Accuracy', accuracy_score(target_valid, predicted_valid))\n",
    "print('F1_score', f1_score(target_valid, predicted_valid))\n",
    "print()\n",
    "\n",
    "model = LogisticRegression(random_state=20052020, solver='liblinear', class_weight='balanced')\n",
    "model.fit(features_train, target_train)\n",
    "predicted_valid = model.predict(features_valid)\n",
    "print('Модель логиcтической регрессии')\n",
    "print('Точность попадания по классам', accuracy_score(target_valid, predicted_valid))\n",
    "print('Precision', precision_score(target_valid, predicted_valid))\n",
    "print('Recall', recall_score(target_valid, predicted_valid))\n",
    "print('Accuracy', accuracy_score(target_valid, predicted_valid))\n",
    "print('F1_score', f1_score(target_valid, predicted_valid))"
   ]
  },
  {
   "cell_type": "markdown",
   "id": "f95ca7de",
   "metadata": {},
   "source": [
    "**Из вышеприведённых данных видно, что F1-мера упала у модели решающего дерева (0.59 и 0.53) и случайного леса (0.49 и 0.47) и возрасла у логистической регрессии (0 и 0.5).**"
   ]
  },
  {
   "cell_type": "markdown",
   "id": "30c6a0ef",
   "metadata": {},
   "source": [
    "**Изучим способ уменьшения класса 0.**"
   ]
  },
  {
   "cell_type": "code",
   "execution_count": 35,
   "id": "3c19ad91",
   "metadata": {},
   "outputs": [
    {
     "name": "stdout",
     "output_type": "stream",
     "text": [
      "1    1202\n",
      "0    1200\n",
      "Name: Exited, dtype: int64\n"
     ]
    }
   ],
   "source": [
    "def downsample(features, target, fraction):\n",
    "    features_zeros = features[target == 0]\n",
    "    features_ones = features[target == 1]\n",
    "    target_zeros = target[target == 0]\n",
    "    target_ones = target[target == 1]\n",
    "    \n",
    "    features_downsampled = pd.concat(\n",
    "        [features_zeros.sample(frac=fraction, random_state=20052020)] + [features_ones])\n",
    "    target_downsampled = pd.concat(\n",
    "        [target_zeros.sample(frac=fraction, random_state=20052020)] + [target_ones])\n",
    "    \n",
    "    features_downsampled, target_downsampled = shuffle(\n",
    "        features_downsampled, target_downsampled, random_state=20052020)\n",
    "    \n",
    "    return features_downsampled, target_downsampled\n",
    "\n",
    "features_downsampled, target_downsampled = downsample(features_train, target_train, 0.25)\n",
    "\n",
    "print(target_downsampled.value_counts())"
   ]
  },
  {
   "cell_type": "code",
   "execution_count": 37,
   "id": "c1815274",
   "metadata": {},
   "outputs": [
    {
     "name": "stdout",
     "output_type": "stream",
     "text": [
      "Модель решающего дерева\n",
      "Точность попадания по классам 0.7615\n",
      "Precision 0.46607669616519176\n",
      "Recall 0.7331786542923434\n",
      "Accuracy 0.7615\n",
      "F1_score 0.569882777276826\n",
      "\n",
      "Модель случайного леса\n",
      "Точность попадания по классам 0.776\n",
      "Precision 0.4872944693572496\n",
      "Recall 0.7563805104408353\n",
      "Accuracy 0.776\n",
      "F1_score 0.5927272727272728\n",
      "\n",
      "Модель логиcтической регрессии\n",
      "Точность попадания по классам 0.701\n",
      "Precision 0.3933588761174968\n",
      "Recall 0.7146171693735499\n",
      "Accuracy 0.701\n",
      "F1_score 0.5074135090609555\n",
      "CPU times: user 3.2 s, sys: 248 ms, total: 3.45 s\n",
      "Wall time: 3.41 s\n"
     ]
    }
   ],
   "source": [
    "%%time\n",
    "\n",
    "model = DecisionTreeClassifier(random_state=20052020, max_depth=7)\n",
    "model.fit(features_downsampled, target_downsampled)\n",
    "predicted_valid = model.predict(features_valid)\n",
    "print('Модель решающего дерева')\n",
    "print('Точность попадания по классам', accuracy_score(target_valid, predicted_valid))\n",
    "print('Precision', precision_score(target_valid, predicted_valid))\n",
    "print('Recall', recall_score(target_valid, predicted_valid))\n",
    "print('Accuracy', accuracy_score(target_valid, predicted_valid))\n",
    "print('F1_score', f1_score(target_valid, predicted_valid))\n",
    "print()\n",
    "\n",
    "model = RandomForestClassifier(random_state=20052020, n_estimators=90)\n",
    "model.fit(features_downsampled, target_downsampled)\n",
    "predicted_valid = model.predict(features_valid)\n",
    "print('Модель случайного леса')\n",
    "print('Точность попадания по классам', accuracy_score(target_valid, predicted_valid))\n",
    "print('Precision', precision_score(target_valid, predicted_valid))\n",
    "print('Recall', recall_score(target_valid, predicted_valid))\n",
    "print('Accuracy', accuracy_score(target_valid, predicted_valid))\n",
    "print('F1_score', f1_score(target_valid, predicted_valid))\n",
    "print()\n",
    "\n",
    "model = LogisticRegression(random_state=20052020, solver='liblinear')\n",
    "model.fit(features_downsampled, target_downsampled)\n",
    "predicted_valid = model.predict(features_valid)\n",
    "print('Модель логиcтической регрессии')\n",
    "print('Точность попадания по классам', accuracy_score(target_valid, predicted_valid))\n",
    "print('Precision', precision_score(target_valid, predicted_valid))\n",
    "print('Recall', recall_score(target_valid, predicted_valid))\n",
    "print('Accuracy', accuracy_score(target_valid, predicted_valid))\n",
    "print('F1_score', f1_score(target_valid, predicted_valid))"
   ]
  },
  {
   "cell_type": "markdown",
   "id": "144835e6",
   "metadata": {},
   "source": [
    "**Из вышеприведённых данных видно, что F1-мера упала у модели решающего дерева (0.59 и 0.54), выросла у случайного леса (0.49 и 0.57) и также возрасла у логистической регрессии (0 и 0.48).**"
   ]
  },
  {
   "cell_type": "markdown",
   "id": "8e77dcf6",
   "metadata": {},
   "source": [
    "**Изучим способ увеличения класса 1.**"
   ]
  },
  {
   "cell_type": "code",
   "execution_count": 38,
   "id": "f13ae649",
   "metadata": {},
   "outputs": [
    {
     "name": "stdout",
     "output_type": "stream",
     "text": [
      "1    4808\n",
      "0    4798\n",
      "Name: Exited, dtype: int64\n"
     ]
    }
   ],
   "source": [
    "def upsample(features, target, repeat):\n",
    "    features_zeros = features[target == 0]\n",
    "    features_ones = features[target == 1]\n",
    "    target_zeros = target[target == 0]\n",
    "    target_ones = target[target == 1]\n",
    "    \n",
    "    features_upsampled = pd.concat([features_zeros] + [features_ones] * repeat)\n",
    "    target_upsampled = pd.concat([target_zeros] + [target_ones] * repeat)\n",
    "    \n",
    "    features_upsampled, target_upsampled = shuffle(\n",
    "        features_upsampled, target_upsampled, random_state=20052020)\n",
    "    \n",
    "    return features_upsampled, target_upsampled\n",
    "\n",
    "features_upsampled, target_upsampled = upsample(features_train, target_train, 4)\n",
    "\n",
    "print(target_upsampled.value_counts())"
   ]
  },
  {
   "cell_type": "code",
   "execution_count": 39,
   "id": "019c8a97",
   "metadata": {
    "scrolled": true
   },
   "outputs": [
    {
     "name": "stdout",
     "output_type": "stream",
     "text": [
      "Модель решающего дерева\n",
      "Точность попадания по классам 0.7575\n",
      "Precision 0.46175637393767704\n",
      "Recall 0.7563805104408353\n",
      "Accuracy 0.7575\n",
      "F1_score 0.573438874230431\n",
      "\n",
      "Модель случайного леса\n",
      "Точность попадания по классам 0.8575\n",
      "Precision 0.7570422535211268\n",
      "Recall 0.4988399071925754\n",
      "Accuracy 0.8575\n",
      "F1_score 0.6013986013986015\n",
      "\n",
      "Модель логиcтической регрессии\n",
      "Точность попадания по классам 0.707\n",
      "Precision 0.39869281045751637\n",
      "Recall 0.7076566125290024\n",
      "Accuracy 0.707\n",
      "F1_score 0.5100334448160535\n",
      "CPU times: user 13.4 s, sys: 460 ms, total: 13.9 s\n",
      "Wall time: 13.8 s\n"
     ]
    }
   ],
   "source": [
    "%%time\n",
    "\n",
    "model = DecisionTreeClassifier(random_state=20052020, max_depth=7)\n",
    "model.fit(features_upsampled, target_upsampled)\n",
    "predicted_valid = model.predict(features_valid)\n",
    "print('Модель решающего дерева')\n",
    "print('Точность попадания по классам', accuracy_score(target_valid, predicted_valid))\n",
    "print('Precision', precision_score(target_valid, predicted_valid))\n",
    "print('Recall', recall_score(target_valid, predicted_valid))\n",
    "print('Accuracy', accuracy_score(target_valid, predicted_valid))\n",
    "print('F1_score', f1_score(target_valid, predicted_valid))\n",
    "print()\n",
    "\n",
    "model = RandomForestClassifier(random_state=20052020, n_estimators=90)\n",
    "model.fit(features_upsampled, target_upsampled)\n",
    "predicted_valid = model.predict(features_valid)\n",
    "print('Модель случайного леса')\n",
    "print('Точность попадания по классам', accuracy_score(target_valid, predicted_valid))\n",
    "print('Precision', precision_score(target_valid, predicted_valid))\n",
    "print('Recall', recall_score(target_valid, predicted_valid))\n",
    "print('Accuracy', accuracy_score(target_valid, predicted_valid))\n",
    "print('F1_score', f1_score(target_valid, predicted_valid))\n",
    "print()\n",
    "\n",
    "model = LogisticRegression(random_state=20052020, solver='liblinear')\n",
    "model.fit(features_upsampled, target_upsampled)\n",
    "predicted_valid = model.predict(features_valid)\n",
    "print('Модель логиcтической регрессии')\n",
    "print('Точность попадания по классам', accuracy_score(target_valid, predicted_valid))\n",
    "print('Precision', precision_score(target_valid, predicted_valid))\n",
    "print('Recall', recall_score(target_valid, predicted_valid))\n",
    "print('Accuracy', accuracy_score(target_valid, predicted_valid))\n",
    "print('F1_score', f1_score(target_valid, predicted_valid))"
   ]
  },
  {
   "cell_type": "markdown",
   "id": "eb3e5a82",
   "metadata": {},
   "source": [
    "**Из вышеприведённых данных видно, что F1-мера упала у модели решающего дерева (0.59 и 0.54), выросла у случайного леса (0.49 и 0.57) и также возрасла у логистической регрессии (0 и 0.49).**"
   ]
  },
  {
   "cell_type": "code",
   "execution_count": 40,
   "id": "e7baf9b3",
   "metadata": {},
   "outputs": [
    {
     "name": "stdout",
     "output_type": "stream",
     "text": [
      "ROC_AUC DecisionTreeClassifier 0.8309954025130168\n",
      "ROC_AUC RandomForestClassifier 0.8511192048964937\n",
      "ROC_AUC LogisticRegression 0.7549564577020845\n"
     ]
    },
    {
     "data": {
      "image/png": "[encoded data removed]",
      "text/plain": [
       "<Figure size 864x648 with 1 Axes>"
      ]
     },
     "metadata": {
      "needs_background": "light"
     },
     "output_type": "display_data"
    }
   ],
   "source": [
    "plt.figure(figsize=[12,9])\n",
    "\n",
    "plt.plot([0, 1], [0, 1], linestyle='--', label='RandomModel')\n",
    "\n",
    "model = DecisionTreeClassifier(random_state=20052020, max_depth=7)\n",
    "model.fit(features_upsampled, target_upsampled)\n",
    "probabilities_valid = model.predict_proba(features_valid)\n",
    "probabilities_one_valid = probabilities_valid[:, 1]\n",
    "fpr, tpr, thresholds = roc_curve(target_valid, probabilities_one_valid)\n",
    "auc_roc = roc_auc_score(target_valid, probabilities_one_valid)\n",
    "print('ROC_AUC DecisionTreeClassifier', auc_roc)\n",
    "plt.plot(fpr, tpr, label='DecisionTreeClassifier')\n",
    "\n",
    "model = RandomForestClassifier(random_state=20052020, max_depth=90)\n",
    "model.fit(features_upsampled, target_upsampled)\n",
    "probabilities_valid = model.predict_proba(features_valid)\n",
    "probabilities_one_valid = probabilities_valid[:, 1]\n",
    "fpr, tpr, thresholds = roc_curve(target_valid, probabilities_one_valid)\n",
    "auc_roc = roc_auc_score(target_valid, probabilities_one_valid)\n",
    "print('ROC_AUC RandomForestClassifier', auc_roc)\n",
    "plt.plot(fpr, tpr, label='RandomForestClassifier')\n",
    "\n",
    "model = LogisticRegression(random_state=20052020, solver='liblinear')\n",
    "model.fit(features_upsampled, target_upsampled)\n",
    "probabilities_valid = model.predict_proba(features_valid)\n",
    "probabilities_one_valid = probabilities_valid[:, 1]\n",
    "fpr, tpr, thresholds = roc_curve(target_valid, probabilities_one_valid)\n",
    "auc_roc = roc_auc_score(target_valid, probabilities_one_valid)\n",
    "print('ROC_AUC LogisticRegression', auc_roc)\n",
    "plt.plot(fpr, tpr, label='LogisticRegression')\n",
    "\n",
    "plt.xlim([0,1])\n",
    "plt.ylim([0,1])\n",
    "\n",
    "plt.xlabel('False Positive Rate')\n",
    "plt.ylabel('True Positive Rate')\n",
    "\n",
    "plt.legend(loc='lower right', fontsize='x-large')\n",
    "\n",
    "plt.title('ROC-кривая')\n",
    "plt.show()"
   ]
  },
  {
   "cell_type": "markdown",
   "id": "d9ec23f7",
   "metadata": {},
   "source": [
    "**Вывод по 3 шагу:**\n",
    "\n",
    "* Дисбаланс классов приводил к ухудшению моделей. Наилучшим способом решения данной проблемы стал увеличение класса 1 в тренировочной выборке.\n",
    "\n",
    "* Выравнивание классов привело к росту F1-меры, к росту гиперпараметров recall и падению гиперпараметра precision."
   ]
  },
  {
   "cell_type": "markdown",
   "id": "f04ec04d",
   "metadata": {},
   "source": [
    "# Шаг 4. Тестирование модели"
   ]
  },
  {
   "cell_type": "markdown",
   "id": "7515eb89",
   "metadata": {},
   "source": [
    "**Применим к тестовой выборке модель случайного. Займёмся исследованием гиперпараметров и улучшим F1-меру модели.**"
   ]
  },
  {
   "cell_type": "code",
   "execution_count": 41,
   "id": "c8e448e7",
   "metadata": {},
   "outputs": [
    {
     "name": "stdout",
     "output_type": "stream",
     "text": [
      "N-estimators 10 F1 0.5346534653465347\n",
      "N-estimators 20 F1 0.5593220338983051\n",
      "N-estimators 30 F1 0.5938375350140056\n",
      "N-estimators 40 F1 0.6041958041958042\n",
      "N-estimators 50 F1 0.598314606741573\n",
      "N-estimators 60 F1 0.6008344923504869\n",
      "N-estimators 70 F1 0.6016713091922007\n",
      "N-estimators 80 F1 0.5986013986013986\n",
      "N-estimators 90 F1 0.6013986013986015\n",
      "N-estimators 100 F1 0.6019690576652602\n",
      "N-estimators 110 F1 0.6097902097902098\n",
      "N-estimators 120 F1 0.610878661087866\n",
      "N-estimators 130 F1 0.60748959778086\n",
      "N-estimators 140 F1 0.6063977746870655\n",
      "N-estimators 150 F1 0.6083333333333334\n",
      "N-estimators 160 F1 0.6033519553072626\n",
      "N-estimators 170 F1 0.6063977746870655\n",
      "N-estimators 180 F1 0.6055555555555555\n",
      "N-estimators 190 F1 0.6104972375690608\n",
      "N-estimators 200 F1 0.6115702479338843\n",
      "N-estimators 210 F1 0.6077348066298343\n",
      "N-estimators 220 F1 0.606896551724138\n",
      "N-estimators 230 F1 0.6049723756906078\n",
      "N-estimators 240 F1 0.6085753803596128\n",
      "N-estimators 250 F1 0.6058091286307054\n",
      "N-estimators 260 F1 0.6132596685082873\n",
      "N-estimators 270 F1 0.61134163208852\n",
      "N-estimators 280 F1 0.6124137931034482\n",
      "N-estimators 290 F1 0.6151724137931034\n",
      "N-estimators 300 F1 0.6141078838174274\n",
      "N-estimators 310 F1 0.6124137931034482\n",
      "N-estimators 320 F1 0.6121883656509696\n",
      "N-estimators 330 F1 0.6058091286307054\n",
      "N-estimators 340 F1 0.6060606060606062\n",
      "N-estimators 350 F1 0.6049723756906078\n",
      "N-estimators 360 F1 0.6079779917469051\n",
      "N-estimators 370 F1 0.6079779917469051\n",
      "N-estimators 380 F1 0.6024759284731774\n",
      "N-estimators 390 F1 0.6033057851239668\n",
      "N-estimators 400 F1 0.6052269601100413\n",
      "N-estimators 410 F1 0.6033057851239668\n",
      "N-estimators 420 F1 0.6011080332409973\n",
      "N-estimators 430 F1 0.6030428769017981\n",
      "N-estimators 440 F1 0.5975103734439834\n",
      "N-estimators 450 F1 0.5986206896551725\n",
      "N-estimators 460 F1 0.6002766251728908\n",
      "N-estimators 470 F1 0.6041379310344828\n",
      "N-estimators 480 F1 0.6013793103448276\n",
      "N-estimators 490 F1 0.6022099447513812\n",
      "CPU times: user 27min 55s, sys: 8.26 s, total: 28min 4s\n",
      "Wall time: 28min 6s\n"
     ]
    }
   ],
   "source": [
    "%%time\n",
    "\n",
    "for est in range(10, 500, 10):\n",
    "    model = RandomForestClassifier(random_state=20052020, n_estimators=est)\n",
    "    model.fit(features_upsampled, target_upsampled)\n",
    "    predicted_valid = model.predict(features_valid)\n",
    "    print('N-estimators', est, 'F1', f1_score(target_valid, predicted_valid))"
   ]
  },
  {
   "cell_type": "markdown",
   "id": "8677d62e",
   "metadata": {},
   "source": [
    "**Наилучший диапазон - 290-300**"
   ]
  },
  {
   "cell_type": "code",
   "execution_count": 43,
   "id": "2a74a08a",
   "metadata": {},
   "outputs": [
    {
     "name": "stdout",
     "output_type": "stream",
     "text": [
      "N-estimators 290 F1 0.6151724137931034\n",
      "N-estimators 291 F1 0.6153846153846153\n",
      "N-estimators 292 F1 0.6132596685082873\n",
      "N-estimators 293 F1 0.6126373626373627\n",
      "N-estimators 294 F1 0.6141078838174274\n",
      "N-estimators 295 F1 0.6134800550206329\n",
      "N-estimators 296 F1 0.6141078838174274\n",
      "N-estimators 297 F1 0.6160220994475138\n",
      "N-estimators 298 F1 0.6141078838174274\n",
      "N-estimators 299 F1 0.6124137931034482\n",
      "CPU times: user 6min 41s, sys: 2.07 s, total: 6min 43s\n",
      "Wall time: 6min 44s\n"
     ]
    }
   ],
   "source": [
    "%%time\n",
    "\n",
    "for est in range(290, 300, 1):\n",
    "    model = RandomForestClassifier(random_state=20052020, n_estimators=est)\n",
    "    model.fit(features_upsampled, target_upsampled)\n",
    "    predicted_valid = model.predict(features_valid)\n",
    "    print('N-estimators', est, 'F1', f1_score(target_valid, predicted_valid))"
   ]
  },
  {
   "cell_type": "markdown",
   "id": "d3cbb996",
   "metadata": {},
   "source": [
    "**Наилучший F1 при числе деревьев - 297**"
   ]
  },
  {
   "cell_type": "code",
   "execution_count": 45,
   "id": "e024cdc3",
   "metadata": {},
   "outputs": [
    {
     "name": "stdout",
     "output_type": "stream",
     "text": [
      "N-estimators 299 F1 0.6130374479889042\n",
      "CPU times: user 38.9 s, sys: 220 ms, total: 39.1 s\n",
      "Wall time: 39.1 s\n"
     ]
    }
   ],
   "source": [
    "%%time\n",
    "\n",
    "model = RandomForestClassifier(random_state=20052020, n_estimators=297, criterion='entropy')\n",
    "model.fit(features_upsampled, target_upsampled)\n",
    "predicted_valid = model.predict(features_valid)\n",
    "print('N-estimators', est, 'F1', f1_score(target_valid, predicted_valid))"
   ]
  },
  {
   "cell_type": "markdown",
   "id": "5abe5f9c",
   "metadata": {},
   "source": [
    "**Изменим параметр min_samples_split**"
   ]
  },
  {
   "cell_type": "code",
   "execution_count": 46,
   "id": "dd99a325",
   "metadata": {},
   "outputs": [
    {
     "name": "stdout",
     "output_type": "stream",
     "text": [
      "Samples_split 0.1 F1 0.598690364826941\n",
      "Samples_split 0.2 F1 0.5804132973944295\n",
      "Samples_split 0.3 F1 0.5731814198071867\n",
      "Samples_split 0.4 F1 0.5626643295354953\n",
      "Samples_split 0.5 F1 0.568141592920354\n",
      "Samples_split 0.6 F1 0.5658709106984969\n",
      "Samples_split 0.7 F1 0.3545865898807075\n",
      "Samples_split 0.8 F1 0.3545865898807075\n",
      "Samples_split 0.9 F1 0.3545865898807075\n",
      "Samples_split 1.0 F1 0.3545865898807075\n",
      "Samples_split 2 F1 0.6124137931034482\n",
      "Samples_split 3 F1 0.6021798365122616\n",
      "Samples_split 4 F1 0.6077348066298343\n",
      "Samples_split 5 F1 0.6222826086956522\n",
      "Samples_split 6 F1 0.6253298153034301\n",
      "Samples_split 7 F1 0.6240208877284595\n",
      "Samples_split 8 F1 0.620599739243807\n",
      "Samples_split 9 F1 0.6157760814249363\n",
      "Samples_split 10 F1 0.6339622641509435\n",
      "CPU times: user 6min 24s, sys: 2.95 s, total: 6min 27s\n",
      "Wall time: 6min 27s\n"
     ]
    }
   ],
   "source": [
    "%%time\n",
    "\n",
    "for samples_split in range(1, 11):\n",
    "    model = RandomForestClassifier(random_state=20052020, n_estimators=est, min_samples_split = samples_split/10)\n",
    "    model.fit(features_upsampled, target_upsampled)\n",
    "    predicted_valid = model.predict(features_valid)\n",
    "    print('Samples_split', samples_split/10, 'F1', f1_score(target_valid, predicted_valid))\n",
    "    \n",
    "for samples_split in range(2, 11):\n",
    "    model = RandomForestClassifier(random_state=20052020, n_estimators=est, min_samples_split = samples_split)\n",
    "    model.fit(features_upsampled, target_upsampled)\n",
    "    predicted_valid = model.predict(features_valid)\n",
    "    print('Samples_split', samples_split, 'F1', f1_score(target_valid, predicted_valid))    "
   ]
  },
  {
   "cell_type": "markdown",
   "id": "03ec2f65",
   "metadata": {},
   "source": [
    "**Лучшее F1 при min_samples_split - 10 с 0.63396.**"
   ]
  },
  {
   "cell_type": "markdown",
   "id": "3a389ee1",
   "metadata": {},
   "source": [
    "**Изменим параметр min_samples_leaf**"
   ]
  },
  {
   "cell_type": "code",
   "execution_count": 47,
   "id": "54c0f3c4",
   "metadata": {},
   "outputs": [
    {
     "name": "stdout",
     "output_type": "stream",
     "text": [
      "Samples_leaf 0.1 F1 0.5619546247818499\n",
      "Samples_leaf 0.2 F1 0.5124792013311149\n",
      "Samples_leaf 0.3 F1 0.5159744408945686\n",
      "Samples_leaf 0.4 F1 0.3545865898807075\n",
      "Samples_leaf 0.5 F1 0.3545865898807075\n",
      "Samples_leaf 1 F1 0.6339622641509435\n",
      "Samples_leaf 2 F1 0.6272912423625255\n",
      "Samples_leaf 3 F1 0.6090373280943026\n",
      "Samples_leaf 4 F1 0.5960637300843487\n",
      "Samples_leaf 5 F1 0.5747960108794198\n",
      "Samples_leaf 6 F1 0.5709188224799286\n",
      "Samples_leaf 7 F1 0.5630550621669627\n",
      "Samples_leaf 8 F1 0.5666666666666667\n",
      "Samples_leaf 9 F1 0.5580985915492958\n",
      "Samples_leaf 10 F1 0.5612788632326821\n",
      "CPU times: user 1min 49s, sys: 1.91 s, total: 1min 51s\n",
      "Wall time: 1min 51s\n"
     ]
    }
   ],
   "source": [
    "%%time\n",
    "\n",
    "for samples_leaf in range(1, 6):\n",
    "    model =  RandomForestClassifier(random_state=20052020, n_estimators=est, min_samples_split=10, \n",
    "                                    min_samples_leaf=samples_leaf/10)\n",
    "    model.fit(features_upsampled, target_upsampled)\n",
    "    predicted_valid = model.predict(features_valid)\n",
    "    print('Samples_leaf', samples_leaf/10,'F1', f1_score(target_valid, predicted_valid))\n",
    "    \n",
    "for samples_leaf in range(1, 11):\n",
    "    model = RandomForestClassifier(random_state=20052020, n_estimators=est, min_samples_split=10,\n",
    "                                  min_samples_leaf=samples_leaf)\n",
    "    model.fit(features_upsampled, target_upsampled)\n",
    "    predicted_valid = model.predict(features_valid)\n",
    "    print('Samples_leaf', samples_leaf, 'F1', f1_score(target_valid, predicted_valid))    "
   ]
  },
  {
   "cell_type": "markdown",
   "id": "debe92f9",
   "metadata": {},
   "source": [
    "**Лучший показатель min_samples_leaf - 1, со значением 0.6339**"
   ]
  },
  {
   "cell_type": "markdown",
   "id": "5a21d0a8",
   "metadata": {},
   "source": [
    "**Проверим на тестовой выборке три модели на дисбалансированных и сбалансированных данных:, со взвешанными классами, с усечённым 0 классом и расширенным 1 классом**"
   ]
  },
  {
   "cell_type": "code",
   "execution_count": 49,
   "id": "9cf86a7a",
   "metadata": {
    "scrolled": true
   },
   "outputs": [
    {
     "name": "stdout",
     "output_type": "stream",
     "text": [
      "Модель случайного леса - дисбаланс классов\n",
      "Точность попадания по классам 0.855\n",
      "Precision 0.8653846153846154\n",
      "Recall 0.3341584158415842\n",
      "Accuracy 0.855\n",
      "F1_score 0.48214285714285715\n",
      "\n",
      "Модель случайного леса - взвешенные классы\n",
      "Точность попадания по классам 0.855\n",
      "Precision 0.7095588235294118\n",
      "Recall 0.4777227722772277\n",
      "Accuracy 0.855\n",
      "F1_score 0.5710059171597632\n",
      "\n",
      "Случайный лес - уменьшенное количество классов 0\n",
      "Точность попадания по классам 0.768\n",
      "Precision 0.4539877300613497\n",
      "Recall 0.7326732673267327\n",
      "F1 0.5606060606060606\n",
      "\n",
      "Модель случайного леса - увеличенное кличество классов 1\n",
      "Точность попадания по классам 0.8525\n",
      "Precision 0.6666666666666666\n",
      "Recall 0.5396039603960396\n",
      "Accuracy 0.8525\n",
      "F1_score 0.5964432284541724\n",
      "\n"
     ]
    }
   ],
   "source": [
    "model = RandomForestClassifier(random_state=20052020, n_estimators=est, min_samples_split=10,\n",
    "                              min_samples_leaf=1)\n",
    "model.fit(features_train, target_train)\n",
    "predicted_test = model.predict(features_test)\n",
    "print('Модель случайного леса - дисбаланс классов')\n",
    "print('Точность попадания по классам', accuracy_score(target_test, predicted_test))\n",
    "print('Precision', precision_score(target_test, predicted_test))\n",
    "print('Recall', recall_score(target_test, predicted_test))\n",
    "print('Accuracy', accuracy_score(target_test, predicted_test))\n",
    "print('F1_score', f1_score(target_test, predicted_test))\n",
    "print()\n",
    "\n",
    "model = RandomForestClassifier(random_state=20052020, n_estimators=est, min_samples_split=10,\n",
    "                              min_samples_leaf=1, class_weight='balanced')\n",
    "model.fit(features_train, target_train)\n",
    "predicted_test = model.predict(features_test)\n",
    "print('Модель случайного леса - взвешенные классы')\n",
    "print('Точность попадания по классам', accuracy_score(target_test, predicted_test))\n",
    "print('Precision', precision_score(target_test, predicted_test))\n",
    "print('Recall', recall_score(target_test, predicted_test))\n",
    "print('Accuracy', accuracy_score(target_test, predicted_test))\n",
    "print('F1_score', f1_score(target_test, predicted_test))\n",
    "print()\n",
    "\n",
    "model = RandomForestClassifier(random_state=20052020, n_estimators=est, min_samples_split=10,\n",
    "                                   min_samples_leaf=1)\n",
    "model.fit(features_downsampled, target_downsampled)\n",
    "predicted_test = model.predict(features_test)\n",
    "print('Случайный лес - уменьшенное количество классов 0')\n",
    "print('Точность попадания по классам', accuracy_score(target_test, predicted_test))\n",
    "print('Precision', precision_score(target_test, predicted_test))\n",
    "print('Recall', recall_score(target_test, predicted_test))\n",
    "print('F1', f1_score(target_test, predicted_test))\n",
    "print()\n",
    "\n",
    "model = RandomForestClassifier(random_state=20052020, n_estimators=est, min_samples_split=10,\n",
    "                              min_samples_leaf=1)\n",
    "model.fit(features_upsampled, target_upsampled)\n",
    "predicted_test = model.predict(features_test)\n",
    "print('Модель случайного леса - увеличенное количество классов 1')\n",
    "print('Точность попадания по классам', accuracy_score(target_test, predicted_test))\n",
    "print('Precision', precision_score(target_test, predicted_test))\n",
    "print('Recall', recall_score(target_test, predicted_test))\n",
    "print('Accuracy', accuracy_score(target_test, predicted_test))\n",
    "print('F1_score', f1_score(target_test, predicted_test))\n",
    "print()"
   ]
  },
  {
   "cell_type": "code",
   "execution_count": null,
   "id": "259e9708",
   "metadata": {},
   "outputs": [],
   "source": [
    "plt.figure(figsize=[12,9])\n",
    "\n",
    "plt.plot([0, 1], [0, 1], linestyle='--', label='RandomModel')\n",
    "\n",
    "model = RandomForestClassifier(random_state=12345, n_estimators=est, min_samples_split=10,\n",
    "                              min_samples_leaf=1)\n",
    "model.fit(features_train, target_train)\n",
    "predicted_test = model.predict(features_test)\n",
    "probabilities_test = model.predict_proba(features_test)\n",
    "probabilities_one_test = probabilities_test[:, 1]\n",
    "fpr, tpr, thresholds = roc_curve(target_test, probabilities_one_test)\n",
    "auc_roc = roc_auc_score(target_test, probabilities_one_test)\n",
    "print('ROC_AUC RandomForestClassifier - disbalanced', auc_roc)\n",
    "plt.plot(fpr, tpr, label='RandomForestClassifier - disbalanced')\n",
    "\n",
    "model = RandomForestClassifier(random_state=12345, n_estimators=est, min_samples_split=10,\n",
    "                              min_samples_leaf=1, class_weight='balanced')\n",
    "model.fit(features_train, target_train)\n",
    "predicted_test = model.predict(features_test)\n",
    "probabilities_test = model.predict_proba(features_test)\n",
    "probabilities_one_test = probabilities_test[:, 1]\n",
    "fpr, tpr, thresholds = roc_curve(target_test, probabilities_one_test)\n",
    "auc_roc = roc_auc_score(target_test, probabilities_one_test)\n",
    "print('ROC_AUC RandomForestClassifier - balanced by class weight', auc_roc)\n",
    "plt.plot(fpr, tpr, label='RandomForestClassifier - balanced by class weight')\n",
    "\n",
    "model = RandomForestClassifier(random_state=12345, n_estimators=est, min_samples_split=10,\n",
    "                              min_samples_leaf=1)\n",
    "model.fit(features_downsampled, target_downsampled)\n",
    "predicted_test = model.predict(features_test)\n",
    "probabilities_test = model.predict_proba(features_test)\n",
    "probabilities_one_test = probabilities_test[:, 1]\n",
    "fpr, tpr, thresholds = roc_curve(target_test, probabilities_one_test)\n",
    "auc_roc = roc_auc_score(target_test, probabilities_one_test)\n",
    "print('ROC_AUC RandomForestClassifier - balanced by reduce 0 class', auc_roc)\n",
    "plt.plot(fpr, tpr, label='RandomForestClassifier - balanced by reduce 0 class')\n",
    "\n",
    "model = RandomForestClassifier(random_state=12345, n_estimators=est, min_samples_split=10,\n",
    "                              min_samples_leaf=1)\n",
    "model.fit(features_upsampled, target_upsampled)\n",
    "predicted_test = model.predict(features_test)\n",
    "probabilities_test = model.predict_proba(features_test)\n",
    "probabilities_one_test = probabilities_test[:, 1]\n",
    "fpr, tpr, thresholds = roc_curve(target_test, probabilities_one_test)\n",
    "auc_roc = roc_auc_score(target_test, probabilities_one_test)\n",
    "print('ROC_AUC RandomForestClassifier - balanced by 1 class', auc_roc)\n",
    "plt.plot(fpr, tpr, label='RandomForestClassifier - balanced by 1 class')\n",
    "\n",
    "plt.xlim([0,1])\n",
    "plt.ylim([0,1])\n",
    "\n",
    "plt.xlabel('False Positive Rate')\n",
    "plt.ylabel('True Positive Rate')\n",
    "\n",
    "plt.legend(loc='lower right', fontsize='x-large')\n",
    "\n",
    "plt.title('ROC-кривая')\n",
    "plt.show()"
   ]
  },
  {
   "cell_type": "markdown",
   "id": "77d08cf1",
   "metadata": {},
   "source": [
    "**Вывод по Шагу 4.**\n",
    "\n",
    "* Модели 2 и 4 достигли максимальной F1-меры, а именно, модель случайного леса RandomForest со взешанными классами и модель случайного леса RandomForest с увеличенным 1 классом.\n",
    "\n",
    "* Взвешивание классов помогает улучшать модели. Выравнивание классов привело к росту F1-меры, к росту гиперпараметров recall и падению гиперпараметра precision.\n",
    "\n",
    "* Если говорить об оценке адекватности модели, то 1я модель (RandomForest с дисбаланосом) и 3я модель (RandomForest с увеличенным 1 классом) примерно одинаково показывают вероятность ухода клиента.\n",
    "\n",
    "* Нами была получена наилучшая модель предсказания, а именно - модель случайного леса RandomForest с увеличенным  классом 1."
   ]
  },
  {
   "cell_type": "markdown",
   "id": "40901590",
   "metadata": {},
   "source": [
    "# Общий вывод:"
   ]
  },
  {
   "cell_type": "markdown",
   "id": "e17493e3",
   "metadata": {},
   "source": [
    "**В ходе выполнения проекта нами были сделаны следующие шаги:**\n",
    "\n",
    "* Шаг 1. Мы удалили три ненужных столбца, а именно, RowNumber, CustomerId и Surname, поскольку они сильно не влияют на исследования. Дубликатов в датафрейме нет, нулевые значения заменили нулями.\n",
    "\n",
    "* Шаг 2. Изучили дисбаланс классов (1 к 4). Предположили, что дисбаланс классов влияет на качество моделей, что подтвердилось в следующих шагах. Выявили,ч то все модели имеют ниже recall чем precision из-за перекоса данных, что в итоге, влияет на f1-меру.\n",
    "\n",
    "* Шаг 3. Подтвердили, что дисбаланс классов приводил к ухудшению моделей. Наилучшим способом решения данной проблемы стал увеличение класса 1 в тренировочной выборке. Выяснили, что выравнивание классов привело к росту F1-меры, к росту гиперпараметров recall и падению гиперпараметра precision.\n",
    "\n",
    "* Шаг 4. Выявили наилучшую модель, а именно RandomForrest со сбалансированными классами. Данная модель имеет достаточную адекватность, подтверждёнными данными ROC-AUC - 0.84. Точность попадания по классам довольно высокий = 0.841. Precision = 0.687, Recall = 0.456, Accuracy = 0.841, F1_score = 0.541"
   ]
  },
  {
   "cell_type": "markdown",
   "id": "c79581da",
   "metadata": {},
   "source": [
    "# Шаг 5. Чек-лист готовности проекта"
   ]
  },
  {
   "cell_type": "markdown",
   "id": "baf0485c",
   "metadata": {},
   "source": [
    "Поставьте 'x' в выполненных пунктах. Далее нажмите Shift+Enter."
   ]
  },
  {
   "cell_type": "markdown",
   "id": "9a78ed7a",
   "metadata": {},
   "source": [
    "- [x]  Jupyter Notebook открыт\n",
    "- [x]  Весь код выполняется без ошибок\n",
    "- [x]  Ячейки с кодом расположены в порядке исполнения\n",
    "- [x]  Выполнен шаг 1: данные подготовлены\n",
    "- [x]  Выполнен шаг 2: задача исследована\n",
    "    - [x]  Исследован баланс классов\n",
    "    - [x]  Изучены модели без учёта дисбаланса\n",
    "    - [x]  Написаны выводы по результатам исследования\n",
    "- [x]  Выполнен шаг 3: учтён дисбаланс\n",
    "    - [x]  Применено несколько способов борьбы с дисбалансом\n",
    "    - [x]  Написаны выводы по результатам исследования\n",
    "- [x]  Выполнен шаг 4: проведено тестирование\n",
    "- [x]  Удалось достичь *F1*-меры не менее 0.59\n",
    "- [x]  Исследована метрика *AUC-ROC*"
   ]
  }
 ],
 "metadata": {
  "ExecuteTimeLog": [
   {
    "duration": 56,
    "start_time": "2022-10-05T10:59:49.557Z"
   },
   {
    "duration": 1934,
    "start_time": "2022-10-05T11:00:00.029Z"
   },
   {
    "duration": 227,
    "start_time": "2022-10-05T11:00:01.965Z"
   },
   {
    "duration": 16,
    "start_time": "2022-10-05T11:00:02.194Z"
   },
   {
    "duration": 42,
    "start_time": "2022-10-05T11:00:02.212Z"
   },
   {
    "duration": 71,
    "start_time": "2022-10-05T11:00:02.255Z"
   },
   {
    "duration": 17,
    "start_time": "2022-10-05T11:00:02.328Z"
   },
   {
    "duration": 9,
    "start_time": "2022-10-05T11:00:02.347Z"
   },
   {
    "duration": 33,
    "start_time": "2022-10-05T11:00:02.358Z"
   },
   {
    "duration": 16,
    "start_time": "2022-10-05T11:00:02.394Z"
   },
   {
    "duration": 44,
    "start_time": "2022-10-05T11:00:02.414Z"
   },
   {
    "duration": 32,
    "start_time": "2022-10-05T11:00:02.460Z"
   },
   {
    "duration": 54,
    "start_time": "2022-10-05T11:00:02.494Z"
   },
   {
    "duration": 41,
    "start_time": "2022-10-05T11:00:02.550Z"
   },
   {
    "duration": 339,
    "start_time": "2022-10-05T11:00:02.592Z"
   },
   {
    "duration": 185,
    "start_time": "2022-10-05T11:00:02.933Z"
   },
   {
    "duration": 8,
    "start_time": "2022-10-05T11:00:03.120Z"
   },
   {
    "duration": 36,
    "start_time": "2022-10-05T11:00:03.130Z"
   },
   {
    "duration": 15612,
    "start_time": "2022-10-05T11:00:03.168Z"
   },
   {
    "duration": 346206,
    "start_time": "2022-10-05T11:00:18.782Z"
   },
   {
    "duration": 227000,
    "start_time": "2022-10-05T11:06:04.989Z"
   },
   {
    "duration": 565,
    "start_time": "2022-10-05T11:09:51.990Z"
   },
   {
    "duration": 23700,
    "start_time": "2022-10-05T11:09:52.557Z"
   },
   {
    "duration": 9407,
    "start_time": "2022-10-05T11:10:16.258Z"
   },
   {
    "duration": 23192,
    "start_time": "2022-10-05T11:10:25.666Z"
   },
   {
    "duration": 233,
    "start_time": "2022-10-05T11:10:48.860Z"
   },
   {
    "duration": 8460,
    "start_time": "2022-10-05T11:10:49.095Z"
   },
   {
    "duration": 205,
    "start_time": "2022-10-05T11:10:57.557Z"
   },
   {
    "duration": 38989,
    "start_time": "2022-10-05T11:10:57.766Z"
   },
   {
    "duration": 15100,
    "start_time": "2022-10-05T11:11:36.757Z"
   },
   {
    "duration": 572802,
    "start_time": "2022-10-05T11:11:51.859Z"
   },
   {
    "duration": 247559,
    "start_time": "2022-10-05T11:21:24.663Z"
   },
   {
    "duration": 24225,
    "start_time": "2022-10-05T11:25:32.224Z"
   },
   {
    "duration": 242759,
    "start_time": "2022-10-05T11:25:56.453Z"
   },
   {
    "duration": 72512,
    "start_time": "2022-10-05T11:29:59.214Z"
   },
   {
    "duration": 56011,
    "start_time": "2022-10-05T11:31:11.728Z"
   },
   {
    "duration": 57291,
    "start_time": "2022-10-05T11:32:07.741Z"
   },
   {
    "duration": 57576,
    "start_time": "2022-10-05T11:34:12.938Z"
   },
   {
    "duration": 24444,
    "start_time": "2022-10-05T11:36:29.808Z"
   },
   {
    "duration": 24979,
    "start_time": "2022-10-05T11:38:25.906Z"
   },
   {
    "duration": 6214,
    "start_time": "2022-10-05T11:39:41.626Z"
   },
   {
    "duration": 6842,
    "start_time": "2022-10-05T11:40:14.050Z"
   },
   {
    "duration": 6414,
    "start_time": "2022-10-05T11:41:09.902Z"
   },
   {
    "duration": 6870,
    "start_time": "2022-10-05T11:45:46.505Z"
   },
   {
    "duration": 6359,
    "start_time": "2022-10-05T11:46:07.867Z"
   },
   {
    "duration": 6388,
    "start_time": "2022-10-05T11:46:27.598Z"
   },
   {
    "duration": 6333,
    "start_time": "2022-10-05T11:47:35.608Z"
   },
   {
    "duration": 24034,
    "start_time": "2022-10-05T11:48:01.323Z"
   },
   {
    "duration": 22507,
    "start_time": "2022-10-05T11:49:07.214Z"
   },
   {
    "duration": 15730,
    "start_time": "2022-10-05T11:50:20.585Z"
   },
   {
    "duration": 53620,
    "start_time": "2022-10-05T11:50:53.317Z"
   },
   {
    "duration": 54849,
    "start_time": "2022-10-05T11:52:03.403Z"
   },
   {
    "duration": 54596,
    "start_time": "2022-10-05T11:53:21.651Z"
   },
   {
    "duration": 55017,
    "start_time": "2022-10-05T11:54:37.501Z"
   },
   {
    "duration": 1998,
    "start_time": "2022-10-05T11:56:09.115Z"
   },
   {
    "duration": 36708,
    "start_time": "2022-10-05T11:56:46.091Z"
   },
   {
    "duration": 118,
    "start_time": "2022-10-05T12:00:18.139Z"
   },
   {
    "duration": 1400,
    "start_time": "2022-10-05T12:01:39.125Z"
   },
   {
    "duration": 80,
    "start_time": "2022-10-05T12:01:40.527Z"
   },
   {
    "duration": 15,
    "start_time": "2022-10-05T12:01:40.609Z"
   },
   {
    "duration": 20,
    "start_time": "2022-10-05T12:01:40.627Z"
   },
   {
    "duration": 51,
    "start_time": "2022-10-05T12:01:40.649Z"
   },
   {
    "duration": 15,
    "start_time": "2022-10-05T12:01:40.703Z"
   },
   {
    "duration": 8,
    "start_time": "2022-10-05T12:01:40.720Z"
   },
   {
    "duration": 3,
    "start_time": "2022-10-05T12:01:40.755Z"
   },
   {
    "duration": 11,
    "start_time": "2022-10-05T12:01:40.760Z"
   },
   {
    "duration": 6,
    "start_time": "2022-10-05T12:01:40.774Z"
   },
   {
    "duration": 13,
    "start_time": "2022-10-05T12:01:40.782Z"
   },
   {
    "duration": 23,
    "start_time": "2022-10-05T12:01:40.797Z"
   },
   {
    "duration": 4,
    "start_time": "2022-10-05T12:01:40.855Z"
   },
   {
    "duration": 323,
    "start_time": "2022-10-05T12:01:40.861Z"
   },
   {
    "duration": 174,
    "start_time": "2022-10-05T12:01:41.186Z"
   },
   {
    "duration": 7,
    "start_time": "2022-10-05T12:01:41.362Z"
   },
   {
    "duration": 9,
    "start_time": "2022-10-05T12:01:41.371Z"
   },
   {
    "duration": 3645,
    "start_time": "2022-10-05T12:01:41.381Z"
   },
   {
    "duration": 1397,
    "start_time": "2022-10-05T12:03:35.281Z"
   },
   {
    "duration": 66,
    "start_time": "2022-10-05T12:03:36.680Z"
   },
   {
    "duration": 14,
    "start_time": "2022-10-05T12:03:36.748Z"
   },
   {
    "duration": 16,
    "start_time": "2022-10-05T12:03:36.764Z"
   },
   {
    "duration": 41,
    "start_time": "2022-10-05T12:03:36.782Z"
   },
   {
    "duration": 40,
    "start_time": "2022-10-05T12:03:36.825Z"
   },
   {
    "duration": 7,
    "start_time": "2022-10-05T12:03:36.867Z"
   },
   {
    "duration": 6,
    "start_time": "2022-10-05T12:03:36.875Z"
   },
   {
    "duration": 11,
    "start_time": "2022-10-05T12:03:36.883Z"
   },
   {
    "duration": 7,
    "start_time": "2022-10-05T12:03:36.897Z"
   },
   {
    "duration": 13,
    "start_time": "2022-10-05T12:03:36.905Z"
   },
   {
    "duration": 54,
    "start_time": "2022-10-05T12:03:36.920Z"
   },
   {
    "duration": 4,
    "start_time": "2022-10-05T12:03:36.975Z"
   },
   {
    "duration": 325,
    "start_time": "2022-10-05T12:03:36.980Z"
   },
   {
    "duration": 170,
    "start_time": "2022-10-05T12:03:37.307Z"
   },
   {
    "duration": 6,
    "start_time": "2022-10-05T12:03:37.478Z"
   },
   {
    "duration": 11,
    "start_time": "2022-10-05T12:03:37.485Z"
   },
   {
    "duration": 15509,
    "start_time": "2022-10-05T12:03:37.498Z"
   },
   {
    "duration": 347339,
    "start_time": "2022-10-05T12:03:53.009Z"
   },
   {
    "duration": 5575,
    "start_time": "2022-10-05T12:09:40.350Z"
   },
   {
    "duration": 438,
    "start_time": "2022-10-05T12:09:45.926Z"
   },
   {
    "duration": 24408,
    "start_time": "2022-10-05T12:09:46.455Z"
   },
   {
    "duration": 10050,
    "start_time": "2022-10-05T12:10:10.955Z"
   },
   {
    "duration": 24652,
    "start_time": "2022-10-05T12:10:21.007Z"
   },
   {
    "duration": 157,
    "start_time": "2022-10-05T12:10:45.663Z"
   },
   {
    "duration": 8744,
    "start_time": "2022-10-05T12:10:45.822Z"
   },
   {
    "duration": 185,
    "start_time": "2022-10-05T12:10:54.657Z"
   },
   {
    "duration": 27934,
    "start_time": "2022-10-05T12:10:54.845Z"
   },
   {
    "duration": 6002,
    "start_time": "2022-10-05T12:11:22.781Z"
   },
   {
    "duration": 0,
    "start_time": "2022-10-05T12:11:28.785Z"
   },
   {
    "duration": 0,
    "start_time": "2022-10-05T12:11:28.786Z"
   },
   {
    "duration": 0,
    "start_time": "2022-10-05T12:11:28.788Z"
   },
   {
    "duration": 0,
    "start_time": "2022-10-05T12:11:28.789Z"
   },
   {
    "duration": 0,
    "start_time": "2022-10-05T12:11:28.790Z"
   },
   {
    "duration": 0,
    "start_time": "2022-10-05T12:11:28.792Z"
   },
   {
    "duration": 0,
    "start_time": "2022-10-05T12:11:28.793Z"
   },
   {
    "duration": 0,
    "start_time": "2022-10-05T12:11:28.797Z"
   },
   {
    "duration": 79110,
    "start_time": "2022-10-05T12:11:30.780Z"
   },
   {
    "duration": 462,
    "start_time": "2022-10-05T12:13:18.697Z"
   },
   {
    "duration": 8580,
    "start_time": "2022-10-05T12:14:22.575Z"
   },
   {
    "duration": 8937,
    "start_time": "2022-10-05T12:14:53.882Z"
   },
   {
    "duration": 8482,
    "start_time": "2022-10-05T12:15:29.177Z"
   },
   {
    "duration": 64,
    "start_time": "2022-10-05T12:15:55.242Z"
   },
   {
    "duration": 8234,
    "start_time": "2022-10-05T12:16:02.525Z"
   },
   {
    "duration": 3417,
    "start_time": "2022-10-05T12:16:30.746Z"
   },
   {
    "duration": 114,
    "start_time": "2022-10-05T12:16:43.986Z"
   },
   {
    "duration": 13855,
    "start_time": "2022-10-05T12:17:09.304Z"
   },
   {
    "duration": 15360,
    "start_time": "2022-10-05T12:17:36.482Z"
   },
   {
    "duration": 1686238,
    "start_time": "2022-10-05T12:19:01.073Z"
   },
   {
    "duration": 31549,
    "start_time": "2022-10-05T13:40:22.639Z"
   },
   {
    "duration": 404357,
    "start_time": "2022-10-05T13:40:55.983Z"
   },
   {
    "duration": 39117,
    "start_time": "2022-10-05T13:49:29.072Z"
   },
   {
    "duration": 387898,
    "start_time": "2022-10-05T13:52:27.838Z"
   },
   {
    "duration": 111455,
    "start_time": "2022-10-05T13:59:36.340Z"
   },
   {
    "duration": 35783,
    "start_time": "2022-10-05T14:05:29.974Z"
   },
   {
    "duration": 89354,
    "start_time": "2022-10-05T14:07:47.050Z"
   }
  ],
  "kernelspec": {
   "display_name": "Python 3 (ipykernel)",
   "language": "python",
   "name": "python3"
  },
  "language_info": {
   "codemirror_mode": {
    "name": "ipython",
    "version": 3
   },
   "file_extension": ".py",
   "mimetype": "text/x-python",
   "name": "python",
   "nbconvert_exporter": "python",
   "pygments_lexer": "ipython3",
   "version": "3.9.12"
  },
  "toc": {
   "base_numbering": 1,
   "nav_menu": {},
   "number_sections": true,
   "sideBar": true,
   "skip_h1_title": true,
   "title_cell": "Table of Contents",
   "title_sidebar": "Contents",
   "toc_cell": false,
   "toc_position": {},
   "toc_section_display": true,
   "toc_window_display": false
  }
 },
 "nbformat": 4,
 "nbformat_minor": 5
}
